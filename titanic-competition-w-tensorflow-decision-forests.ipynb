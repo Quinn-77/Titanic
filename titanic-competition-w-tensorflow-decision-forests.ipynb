{
 "cells": [
  {
   "cell_type": "markdown",
   "id": "6a5b25a4",
   "metadata": {
    "papermill": {
     "duration": 0.009376,
     "end_time": "2023-08-16T14:35:41.825606",
     "exception": false,
     "start_time": "2023-08-16T14:35:41.816230",
     "status": "completed"
    },
    "tags": []
   },
   "source": [
    "# Titanic competition with TensorFlow Decision Forests\n",
    "\n",
    "This notebook will take you through the steps needed to train a baseline Gradient Boosted Trees Model using TensorFlow Decision Forests and creating a submission on the Titanic competition. \n",
    "\n",
    "This notebook shows:\n",
    "\n",
    "1. How to do some basic pre-processing. For example, the passenger names will be tokenized, and ticket names will be splitted in parts.\n",
    "1. How to train a Gradient Boosted Trees (GBT) with default parameters\n",
    "1. How to train a GBT with improved default parameters\n",
    "1. How to tune the parameters of a GBTs\n",
    "1. How to train and ensemble many GBTs"
   ]
  },
  {
   "cell_type": "markdown",
   "id": "1516efd1",
   "metadata": {
    "papermill": {
     "duration": 0.007444,
     "end_time": "2023-08-16T14:35:41.841094",
     "exception": false,
     "start_time": "2023-08-16T14:35:41.833650",
     "status": "completed"
    },
    "tags": []
   },
   "source": [
    "# Imports dependencies"
   ]
  },
  {
   "cell_type": "code",
   "execution_count": 1,
   "id": "90d5757d",
   "metadata": {
    "execution": {
     "iopub.execute_input": "2023-08-16T14:35:41.859541Z",
     "iopub.status.busy": "2023-08-16T14:35:41.858744Z",
     "iopub.status.idle": "2023-08-16T14:35:52.568272Z",
     "shell.execute_reply": "2023-08-16T14:35:52.566778Z"
    },
    "papermill": {
     "duration": 10.722411,
     "end_time": "2023-08-16T14:35:52.571936",
     "exception": false,
     "start_time": "2023-08-16T14:35:41.849525",
     "status": "completed"
    },
    "tags": []
   },
   "outputs": [
    {
     "name": "stdout",
     "output_type": "stream",
     "text": [
      "Found TF-DF 1.2.0\n"
     ]
    }
   ],
   "source": [
    "import numpy as np\n",
    "import pandas as pd\n",
    "import os\n",
    "\n",
    "import tensorflow as tf\n",
    "import tensorflow_decision_forests as tfdf\n",
    "\n",
    "print(f\"Found TF-DF {tfdf.__version__}\")"
   ]
  },
  {
   "cell_type": "markdown",
   "id": "07d9de6e",
   "metadata": {
    "papermill": {
     "duration": 0.007961,
     "end_time": "2023-08-16T14:35:52.588767",
     "exception": false,
     "start_time": "2023-08-16T14:35:52.580806",
     "status": "completed"
    },
    "tags": []
   },
   "source": [
    "# Load dataset"
   ]
  },
  {
   "cell_type": "code",
   "execution_count": 2,
   "id": "46bf54cb",
   "metadata": {
    "execution": {
     "iopub.execute_input": "2023-08-16T14:35:52.607383Z",
     "iopub.status.busy": "2023-08-16T14:35:52.606618Z",
     "iopub.status.idle": "2023-08-16T14:35:52.673295Z",
     "shell.execute_reply": "2023-08-16T14:35:52.671875Z"
    },
    "papermill": {
     "duration": 0.079666,
     "end_time": "2023-08-16T14:35:52.676506",
     "exception": false,
     "start_time": "2023-08-16T14:35:52.596840",
     "status": "completed"
    },
    "tags": []
   },
   "outputs": [
    {
     "data": {
      "text/html": [
       "<div>\n",
       "<style scoped>\n",
       "    .dataframe tbody tr th:only-of-type {\n",
       "        vertical-align: middle;\n",
       "    }\n",
       "\n",
       "    .dataframe tbody tr th {\n",
       "        vertical-align: top;\n",
       "    }\n",
       "\n",
       "    .dataframe thead th {\n",
       "        text-align: right;\n",
       "    }\n",
       "</style>\n",
       "<table border=\"1\" class=\"dataframe\">\n",
       "  <thead>\n",
       "    <tr style=\"text-align: right;\">\n",
       "      <th></th>\n",
       "      <th>PassengerId</th>\n",
       "      <th>Survived</th>\n",
       "      <th>Pclass</th>\n",
       "      <th>Name</th>\n",
       "      <th>Sex</th>\n",
       "      <th>Age</th>\n",
       "      <th>SibSp</th>\n",
       "      <th>Parch</th>\n",
       "      <th>Ticket</th>\n",
       "      <th>Fare</th>\n",
       "      <th>Cabin</th>\n",
       "      <th>Embarked</th>\n",
       "    </tr>\n",
       "  </thead>\n",
       "  <tbody>\n",
       "    <tr>\n",
       "      <th>0</th>\n",
       "      <td>1</td>\n",
       "      <td>0</td>\n",
       "      <td>3</td>\n",
       "      <td>Braund, Mr. Owen Harris</td>\n",
       "      <td>male</td>\n",
       "      <td>22.0</td>\n",
       "      <td>1</td>\n",
       "      <td>0</td>\n",
       "      <td>A/5 21171</td>\n",
       "      <td>7.2500</td>\n",
       "      <td>NaN</td>\n",
       "      <td>S</td>\n",
       "    </tr>\n",
       "    <tr>\n",
       "      <th>1</th>\n",
       "      <td>2</td>\n",
       "      <td>1</td>\n",
       "      <td>1</td>\n",
       "      <td>Cumings, Mrs. John Bradley (Florence Briggs Th...</td>\n",
       "      <td>female</td>\n",
       "      <td>38.0</td>\n",
       "      <td>1</td>\n",
       "      <td>0</td>\n",
       "      <td>PC 17599</td>\n",
       "      <td>71.2833</td>\n",
       "      <td>C85</td>\n",
       "      <td>C</td>\n",
       "    </tr>\n",
       "    <tr>\n",
       "      <th>2</th>\n",
       "      <td>3</td>\n",
       "      <td>1</td>\n",
       "      <td>3</td>\n",
       "      <td>Heikkinen, Miss. Laina</td>\n",
       "      <td>female</td>\n",
       "      <td>26.0</td>\n",
       "      <td>0</td>\n",
       "      <td>0</td>\n",
       "      <td>STON/O2. 3101282</td>\n",
       "      <td>7.9250</td>\n",
       "      <td>NaN</td>\n",
       "      <td>S</td>\n",
       "    </tr>\n",
       "    <tr>\n",
       "      <th>3</th>\n",
       "      <td>4</td>\n",
       "      <td>1</td>\n",
       "      <td>1</td>\n",
       "      <td>Futrelle, Mrs. Jacques Heath (Lily May Peel)</td>\n",
       "      <td>female</td>\n",
       "      <td>35.0</td>\n",
       "      <td>1</td>\n",
       "      <td>0</td>\n",
       "      <td>113803</td>\n",
       "      <td>53.1000</td>\n",
       "      <td>C123</td>\n",
       "      <td>S</td>\n",
       "    </tr>\n",
       "    <tr>\n",
       "      <th>4</th>\n",
       "      <td>5</td>\n",
       "      <td>0</td>\n",
       "      <td>3</td>\n",
       "      <td>Allen, Mr. William Henry</td>\n",
       "      <td>male</td>\n",
       "      <td>35.0</td>\n",
       "      <td>0</td>\n",
       "      <td>0</td>\n",
       "      <td>373450</td>\n",
       "      <td>8.0500</td>\n",
       "      <td>NaN</td>\n",
       "      <td>S</td>\n",
       "    </tr>\n",
       "    <tr>\n",
       "      <th>5</th>\n",
       "      <td>6</td>\n",
       "      <td>0</td>\n",
       "      <td>3</td>\n",
       "      <td>Moran, Mr. James</td>\n",
       "      <td>male</td>\n",
       "      <td>NaN</td>\n",
       "      <td>0</td>\n",
       "      <td>0</td>\n",
       "      <td>330877</td>\n",
       "      <td>8.4583</td>\n",
       "      <td>NaN</td>\n",
       "      <td>Q</td>\n",
       "    </tr>\n",
       "    <tr>\n",
       "      <th>6</th>\n",
       "      <td>7</td>\n",
       "      <td>0</td>\n",
       "      <td>1</td>\n",
       "      <td>McCarthy, Mr. Timothy J</td>\n",
       "      <td>male</td>\n",
       "      <td>54.0</td>\n",
       "      <td>0</td>\n",
       "      <td>0</td>\n",
       "      <td>17463</td>\n",
       "      <td>51.8625</td>\n",
       "      <td>E46</td>\n",
       "      <td>S</td>\n",
       "    </tr>\n",
       "    <tr>\n",
       "      <th>7</th>\n",
       "      <td>8</td>\n",
       "      <td>0</td>\n",
       "      <td>3</td>\n",
       "      <td>Palsson, Master. Gosta Leonard</td>\n",
       "      <td>male</td>\n",
       "      <td>2.0</td>\n",
       "      <td>3</td>\n",
       "      <td>1</td>\n",
       "      <td>349909</td>\n",
       "      <td>21.0750</td>\n",
       "      <td>NaN</td>\n",
       "      <td>S</td>\n",
       "    </tr>\n",
       "    <tr>\n",
       "      <th>8</th>\n",
       "      <td>9</td>\n",
       "      <td>1</td>\n",
       "      <td>3</td>\n",
       "      <td>Johnson, Mrs. Oscar W (Elisabeth Vilhelmina Berg)</td>\n",
       "      <td>female</td>\n",
       "      <td>27.0</td>\n",
       "      <td>0</td>\n",
       "      <td>2</td>\n",
       "      <td>347742</td>\n",
       "      <td>11.1333</td>\n",
       "      <td>NaN</td>\n",
       "      <td>S</td>\n",
       "    </tr>\n",
       "    <tr>\n",
       "      <th>9</th>\n",
       "      <td>10</td>\n",
       "      <td>1</td>\n",
       "      <td>2</td>\n",
       "      <td>Nasser, Mrs. Nicholas (Adele Achem)</td>\n",
       "      <td>female</td>\n",
       "      <td>14.0</td>\n",
       "      <td>1</td>\n",
       "      <td>0</td>\n",
       "      <td>237736</td>\n",
       "      <td>30.0708</td>\n",
       "      <td>NaN</td>\n",
       "      <td>C</td>\n",
       "    </tr>\n",
       "  </tbody>\n",
       "</table>\n",
       "</div>"
      ],
      "text/plain": [
       "   PassengerId  Survived  Pclass  \\\n",
       "0            1         0       3   \n",
       "1            2         1       1   \n",
       "2            3         1       3   \n",
       "3            4         1       1   \n",
       "4            5         0       3   \n",
       "5            6         0       3   \n",
       "6            7         0       1   \n",
       "7            8         0       3   \n",
       "8            9         1       3   \n",
       "9           10         1       2   \n",
       "\n",
       "                                                Name     Sex   Age  SibSp  \\\n",
       "0                            Braund, Mr. Owen Harris    male  22.0      1   \n",
       "1  Cumings, Mrs. John Bradley (Florence Briggs Th...  female  38.0      1   \n",
       "2                             Heikkinen, Miss. Laina  female  26.0      0   \n",
       "3       Futrelle, Mrs. Jacques Heath (Lily May Peel)  female  35.0      1   \n",
       "4                           Allen, Mr. William Henry    male  35.0      0   \n",
       "5                                   Moran, Mr. James    male   NaN      0   \n",
       "6                            McCarthy, Mr. Timothy J    male  54.0      0   \n",
       "7                     Palsson, Master. Gosta Leonard    male   2.0      3   \n",
       "8  Johnson, Mrs. Oscar W (Elisabeth Vilhelmina Berg)  female  27.0      0   \n",
       "9                Nasser, Mrs. Nicholas (Adele Achem)  female  14.0      1   \n",
       "\n",
       "   Parch            Ticket     Fare Cabin Embarked  \n",
       "0      0         A/5 21171   7.2500   NaN        S  \n",
       "1      0          PC 17599  71.2833   C85        C  \n",
       "2      0  STON/O2. 3101282   7.9250   NaN        S  \n",
       "3      0            113803  53.1000  C123        S  \n",
       "4      0            373450   8.0500   NaN        S  \n",
       "5      0            330877   8.4583   NaN        Q  \n",
       "6      0             17463  51.8625   E46        S  \n",
       "7      1            349909  21.0750   NaN        S  \n",
       "8      2            347742  11.1333   NaN        S  \n",
       "9      0            237736  30.0708   NaN        C  "
      ]
     },
     "execution_count": 2,
     "metadata": {},
     "output_type": "execute_result"
    }
   ],
   "source": [
    "train_df = pd.read_csv(\"/kaggle/input/titanic/train.csv\")\n",
    "serving_df = pd.read_csv(\"/kaggle/input/titanic/test.csv\")\n",
    "\n",
    "train_df.head(10)"
   ]
  },
  {
   "cell_type": "markdown",
   "id": "718eb87f",
   "metadata": {
    "papermill": {
     "duration": 0.008608,
     "end_time": "2023-08-16T14:35:52.693584",
     "exception": false,
     "start_time": "2023-08-16T14:35:52.684976",
     "status": "completed"
    },
    "tags": []
   },
   "source": [
    "# Prepare dataset\n",
    "\n",
    "We will apply the following transformations on the dataset.\n",
    "\n",
    "1. Tokenize the names. For example, \"Braund, Mr. Owen Harris\" will become [\"Braund\", \"Mr.\", \"Owen\", \"Harris\"].\n",
    "2. Extract any prefix in the ticket. For example ticket \"STON/O2. 3101282\" will become \"STON/O2.\" and 3101282."
   ]
  },
  {
   "cell_type": "code",
   "execution_count": 3,
   "id": "0d2bfe7d",
   "metadata": {
    "execution": {
     "iopub.execute_input": "2023-08-16T14:35:52.714341Z",
     "iopub.status.busy": "2023-08-16T14:35:52.713848Z",
     "iopub.status.idle": "2023-08-16T14:35:52.764015Z",
     "shell.execute_reply": "2023-08-16T14:35:52.762530Z"
    },
    "papermill": {
     "duration": 0.063852,
     "end_time": "2023-08-16T14:35:52.767118",
     "exception": false,
     "start_time": "2023-08-16T14:35:52.703266",
     "status": "completed"
    },
    "tags": []
   },
   "outputs": [
    {
     "data": {
      "text/html": [
       "<div>\n",
       "<style scoped>\n",
       "    .dataframe tbody tr th:only-of-type {\n",
       "        vertical-align: middle;\n",
       "    }\n",
       "\n",
       "    .dataframe tbody tr th {\n",
       "        vertical-align: top;\n",
       "    }\n",
       "\n",
       "    .dataframe thead th {\n",
       "        text-align: right;\n",
       "    }\n",
       "</style>\n",
       "<table border=\"1\" class=\"dataframe\">\n",
       "  <thead>\n",
       "    <tr style=\"text-align: right;\">\n",
       "      <th></th>\n",
       "      <th>PassengerId</th>\n",
       "      <th>Survived</th>\n",
       "      <th>Pclass</th>\n",
       "      <th>Name</th>\n",
       "      <th>Sex</th>\n",
       "      <th>Age</th>\n",
       "      <th>SibSp</th>\n",
       "      <th>Parch</th>\n",
       "      <th>Ticket</th>\n",
       "      <th>Fare</th>\n",
       "      <th>Cabin</th>\n",
       "      <th>Embarked</th>\n",
       "      <th>Ticket_number</th>\n",
       "      <th>Ticket_item</th>\n",
       "    </tr>\n",
       "  </thead>\n",
       "  <tbody>\n",
       "    <tr>\n",
       "      <th>0</th>\n",
       "      <td>1</td>\n",
       "      <td>0</td>\n",
       "      <td>3</td>\n",
       "      <td>Braund Mr Owen Harris</td>\n",
       "      <td>male</td>\n",
       "      <td>22.0</td>\n",
       "      <td>1</td>\n",
       "      <td>0</td>\n",
       "      <td>A/5 21171</td>\n",
       "      <td>7.2500</td>\n",
       "      <td>NaN</td>\n",
       "      <td>S</td>\n",
       "      <td>21171</td>\n",
       "      <td>A/5</td>\n",
       "    </tr>\n",
       "    <tr>\n",
       "      <th>1</th>\n",
       "      <td>2</td>\n",
       "      <td>1</td>\n",
       "      <td>1</td>\n",
       "      <td>Cumings Mrs John Bradley Florence Briggs Thayer</td>\n",
       "      <td>female</td>\n",
       "      <td>38.0</td>\n",
       "      <td>1</td>\n",
       "      <td>0</td>\n",
       "      <td>PC 17599</td>\n",
       "      <td>71.2833</td>\n",
       "      <td>C85</td>\n",
       "      <td>C</td>\n",
       "      <td>17599</td>\n",
       "      <td>PC</td>\n",
       "    </tr>\n",
       "    <tr>\n",
       "      <th>2</th>\n",
       "      <td>3</td>\n",
       "      <td>1</td>\n",
       "      <td>3</td>\n",
       "      <td>Heikkinen Miss Laina</td>\n",
       "      <td>female</td>\n",
       "      <td>26.0</td>\n",
       "      <td>0</td>\n",
       "      <td>0</td>\n",
       "      <td>STON/O2. 3101282</td>\n",
       "      <td>7.9250</td>\n",
       "      <td>NaN</td>\n",
       "      <td>S</td>\n",
       "      <td>3101282</td>\n",
       "      <td>STON/O2.</td>\n",
       "    </tr>\n",
       "    <tr>\n",
       "      <th>3</th>\n",
       "      <td>4</td>\n",
       "      <td>1</td>\n",
       "      <td>1</td>\n",
       "      <td>Futrelle Mrs Jacques Heath Lily May Peel</td>\n",
       "      <td>female</td>\n",
       "      <td>35.0</td>\n",
       "      <td>1</td>\n",
       "      <td>0</td>\n",
       "      <td>113803</td>\n",
       "      <td>53.1000</td>\n",
       "      <td>C123</td>\n",
       "      <td>S</td>\n",
       "      <td>113803</td>\n",
       "      <td>NONE</td>\n",
       "    </tr>\n",
       "    <tr>\n",
       "      <th>4</th>\n",
       "      <td>5</td>\n",
       "      <td>0</td>\n",
       "      <td>3</td>\n",
       "      <td>Allen Mr William Henry</td>\n",
       "      <td>male</td>\n",
       "      <td>35.0</td>\n",
       "      <td>0</td>\n",
       "      <td>0</td>\n",
       "      <td>373450</td>\n",
       "      <td>8.0500</td>\n",
       "      <td>NaN</td>\n",
       "      <td>S</td>\n",
       "      <td>373450</td>\n",
       "      <td>NONE</td>\n",
       "    </tr>\n",
       "  </tbody>\n",
       "</table>\n",
       "</div>"
      ],
      "text/plain": [
       "   PassengerId  Survived  Pclass  \\\n",
       "0            1         0       3   \n",
       "1            2         1       1   \n",
       "2            3         1       3   \n",
       "3            4         1       1   \n",
       "4            5         0       3   \n",
       "\n",
       "                                              Name     Sex   Age  SibSp  \\\n",
       "0                            Braund Mr Owen Harris    male  22.0      1   \n",
       "1  Cumings Mrs John Bradley Florence Briggs Thayer  female  38.0      1   \n",
       "2                             Heikkinen Miss Laina  female  26.0      0   \n",
       "3         Futrelle Mrs Jacques Heath Lily May Peel  female  35.0      1   \n",
       "4                           Allen Mr William Henry    male  35.0      0   \n",
       "\n",
       "   Parch            Ticket     Fare Cabin Embarked Ticket_number Ticket_item  \n",
       "0      0         A/5 21171   7.2500   NaN        S         21171         A/5  \n",
       "1      0          PC 17599  71.2833   C85        C         17599          PC  \n",
       "2      0  STON/O2. 3101282   7.9250   NaN        S       3101282    STON/O2.  \n",
       "3      0            113803  53.1000  C123        S        113803        NONE  \n",
       "4      0            373450   8.0500   NaN        S        373450        NONE  "
      ]
     },
     "execution_count": 3,
     "metadata": {},
     "output_type": "execute_result"
    }
   ],
   "source": [
    "def preprocess(df):\n",
    "    df = df.copy()\n",
    "    \n",
    "    def normalize_name(x):\n",
    "        return \" \".join([v.strip(\",()[].\\\"'\") for v in x.split(\" \")])\n",
    "    \n",
    "    def ticket_number(x):\n",
    "        return x.split(\" \")[-1]\n",
    "        \n",
    "    def ticket_item(x):\n",
    "        items = x.split(\" \")\n",
    "        if len(items) == 1:\n",
    "            return \"NONE\"\n",
    "        return \"_\".join(items[0:-1])\n",
    "    \n",
    "    df[\"Name\"] = df[\"Name\"].apply(normalize_name)\n",
    "    df[\"Ticket_number\"] = df[\"Ticket\"].apply(ticket_number)\n",
    "    df[\"Ticket_item\"] = df[\"Ticket\"].apply(ticket_item)                     \n",
    "    return df\n",
    "    \n",
    "preprocessed_train_df = preprocess(train_df)\n",
    "preprocessed_serving_df = preprocess(serving_df)\n",
    "\n",
    "preprocessed_train_df.head(5)"
   ]
  },
  {
   "cell_type": "markdown",
   "id": "3ff43a63",
   "metadata": {
    "papermill": {
     "duration": 0.010716,
     "end_time": "2023-08-16T14:35:52.787029",
     "exception": false,
     "start_time": "2023-08-16T14:35:52.776313",
     "status": "completed"
    },
    "tags": []
   },
   "source": [
    "Let's keep the list of the input features of the model. Notably, we don't want to train our model on the \"PassengerId\" and \"Ticket\" features."
   ]
  },
  {
   "cell_type": "code",
   "execution_count": 4,
   "id": "af0879e2",
   "metadata": {
    "execution": {
     "iopub.execute_input": "2023-08-16T14:35:52.807856Z",
     "iopub.status.busy": "2023-08-16T14:35:52.807441Z",
     "iopub.status.idle": "2023-08-16T14:35:52.814195Z",
     "shell.execute_reply": "2023-08-16T14:35:52.812910Z"
    },
    "papermill": {
     "duration": 0.021275,
     "end_time": "2023-08-16T14:35:52.818180",
     "exception": false,
     "start_time": "2023-08-16T14:35:52.796905",
     "status": "completed"
    },
    "tags": []
   },
   "outputs": [
    {
     "name": "stdout",
     "output_type": "stream",
     "text": [
      "Input features: ['Pclass', 'Name', 'Sex', 'Age', 'SibSp', 'Parch', 'Fare', 'Cabin', 'Embarked', 'Ticket_number', 'Ticket_item']\n"
     ]
    }
   ],
   "source": [
    "input_features = list(preprocessed_train_df.columns)\n",
    "input_features.remove(\"Ticket\")\n",
    "input_features.remove(\"PassengerId\")\n",
    "input_features.remove(\"Survived\")\n",
    "#input_features.remove(\"Ticket_number\")\n",
    "\n",
    "print(f\"Input features: {input_features}\")"
   ]
  },
  {
   "cell_type": "markdown",
   "id": "54c15c7b",
   "metadata": {
    "papermill": {
     "duration": 0.00855,
     "end_time": "2023-08-16T14:35:52.836083",
     "exception": false,
     "start_time": "2023-08-16T14:35:52.827533",
     "status": "completed"
    },
    "tags": []
   },
   "source": [
    "# Convert Pandas dataset to TensorFlow Dataset"
   ]
  },
  {
   "cell_type": "code",
   "execution_count": 5,
   "id": "0402cb8c",
   "metadata": {
    "execution": {
     "iopub.execute_input": "2023-08-16T14:35:52.857044Z",
     "iopub.status.busy": "2023-08-16T14:35:52.856607Z",
     "iopub.status.idle": "2023-08-16T14:35:53.222522Z",
     "shell.execute_reply": "2023-08-16T14:35:53.220855Z"
    },
    "papermill": {
     "duration": 0.381906,
     "end_time": "2023-08-16T14:35:53.226874",
     "exception": false,
     "start_time": "2023-08-16T14:35:52.844968",
     "status": "completed"
    },
    "tags": []
   },
   "outputs": [],
   "source": [
    "def tokenize_names(features, labels=None):\n",
    "    \"\"\"Divite the names into tokens. TF-DF can consume text tokens natively.\"\"\"\n",
    "    features[\"Name\"] =  tf.strings.split(features[\"Name\"])\n",
    "    return features, labels\n",
    "\n",
    "train_ds = tfdf.keras.pd_dataframe_to_tf_dataset(preprocessed_train_df,label=\"Survived\").map(tokenize_names)\n",
    "serving_ds = tfdf.keras.pd_dataframe_to_tf_dataset(preprocessed_serving_df).map(tokenize_names)"
   ]
  },
  {
   "cell_type": "markdown",
   "id": "0235cb91",
   "metadata": {
    "papermill": {
     "duration": 0.008992,
     "end_time": "2023-08-16T14:35:53.245746",
     "exception": false,
     "start_time": "2023-08-16T14:35:53.236754",
     "status": "completed"
    },
    "tags": []
   },
   "source": [
    "# Train model with default parameters\n",
    "\n",
    "### Train model\n",
    "\n",
    "First, we are training a GradientBoostedTreesModel model with the default parameters."
   ]
  },
  {
   "cell_type": "code",
   "execution_count": 6,
   "id": "c6b0a11d",
   "metadata": {
    "execution": {
     "iopub.execute_input": "2023-08-16T14:35:53.267676Z",
     "iopub.status.busy": "2023-08-16T14:35:53.265905Z",
     "iopub.status.idle": "2023-08-16T14:36:05.583851Z",
     "shell.execute_reply": "2023-08-16T14:36:05.581683Z"
    },
    "papermill": {
     "duration": 12.332362,
     "end_time": "2023-08-16T14:36:05.587186",
     "exception": false,
     "start_time": "2023-08-16T14:35:53.254824",
     "status": "completed"
    },
    "tags": []
   },
   "outputs": [
    {
     "name": "stderr",
     "output_type": "stream",
     "text": [
      "[INFO 2023-08-16T14:36:01.926121563+00:00 kernel.cc:1214] Loading model from path /tmp/tmpuyce9fvn/model/ with prefix e2ec13ea101e4700\n",
      "[INFO 2023-08-16T14:36:01.938295171+00:00 abstract_model.cc:1311] Engine \"GradientBoostedTreesQuickScorerExtended\" built\n",
      "[INFO 2023-08-16T14:36:01.938656604+00:00 kernel.cc:1046] Use fast generic engine\n"
     ]
    },
    {
     "name": "stdout",
     "output_type": "stream",
     "text": [
      "WARNING: AutoGraph could not transform <function simple_ml_inference_op_with_handle at 0x79ed319da4d0> and will run it as-is.\n",
      "Please report this to the TensorFlow team. When filing the bug, set the verbosity to 10 (on Linux, `export AUTOGRAPH_VERBOSITY=10`) and attach the full output.\n",
      "Cause: could not get source code\n",
      "To silence this warning, decorate the function with @tf.autograph.experimental.do_not_convert\n",
      "Accuracy: 0.8260869383811951 Loss:0.8608942627906799\n"
     ]
    }
   ],
   "source": [
    "model = tfdf.keras.GradientBoostedTreesModel(\n",
    "    verbose=0, # Very few logs\n",
    "    features=[tfdf.keras.FeatureUsage(name=n) for n in input_features],\n",
    "    exclude_non_specified_features=True, # Only use the features in \"features\"\n",
    "    random_seed=1234,\n",
    ")\n",
    "model.fit(train_ds)\n",
    "\n",
    "self_evaluation = model.make_inspector().evaluation()\n",
    "print(f\"Accuracy: {self_evaluation.accuracy} Loss:{self_evaluation.loss}\")"
   ]
  },
  {
   "cell_type": "markdown",
   "id": "58fb9fa7",
   "metadata": {
    "papermill": {
     "duration": 0.008777,
     "end_time": "2023-08-16T14:36:05.605212",
     "exception": false,
     "start_time": "2023-08-16T14:36:05.596435",
     "status": "completed"
    },
    "tags": []
   },
   "source": [
    "# Train model with improved default parameters\n",
    "\n",
    "Now you'll use some specific parameters when creating the GBT model"
   ]
  },
  {
   "cell_type": "code",
   "execution_count": 7,
   "id": "35025521",
   "metadata": {
    "execution": {
     "iopub.execute_input": "2023-08-16T14:36:05.626124Z",
     "iopub.status.busy": "2023-08-16T14:36:05.625693Z",
     "iopub.status.idle": "2023-08-16T14:36:06.926211Z",
     "shell.execute_reply": "2023-08-16T14:36:06.924687Z"
    },
    "papermill": {
     "duration": 1.315433,
     "end_time": "2023-08-16T14:36:06.930163",
     "exception": false,
     "start_time": "2023-08-16T14:36:05.614730",
     "status": "completed"
    },
    "tags": []
   },
   "outputs": [
    {
     "name": "stderr",
     "output_type": "stream",
     "text": [
      "[INFO 2023-08-16T14:36:06.58007662+00:00 kernel.cc:1214] Loading model from path /tmp/tmp4rju4svo/model/ with prefix 6b77cd64049b4267\n",
      "[INFO 2023-08-16T14:36:06.589591817+00:00 decision_forest.cc:661] Model loaded with 33 root(s), 1823 node(s), and 10 input feature(s).\n",
      "[INFO 2023-08-16T14:36:06.589922915+00:00 kernel.cc:1046] Use fast generic engine\n"
     ]
    },
    {
     "name": "stdout",
     "output_type": "stream",
     "text": [
      "Accuracy: 0.760869562625885 Loss:1.0154211521148682\n"
     ]
    }
   ],
   "source": [
    "model = tfdf.keras.GradientBoostedTreesModel(\n",
    "    verbose=0, # Very few logs\n",
    "    features=[tfdf.keras.FeatureUsage(name=n) for n in input_features],\n",
    "    exclude_non_specified_features=True, # Only use the features in \"features\"\n",
    "    \n",
    "    #num_trees=2000,\n",
    "    \n",
    "    # Only for GBT.\n",
    "    # A bit slower, but great to understand the model.\n",
    "    # compute_permutation_variable_importance=True,\n",
    "    \n",
    "    # Change the default hyper-parameters\n",
    "    # hyperparameter_template=\"benchmark_rank1@v1\",\n",
    "    \n",
    "    #num_trees=1000,\n",
    "    #tuner=tuner\n",
    "    \n",
    "    min_examples=1,\n",
    "    categorical_algorithm=\"RANDOM\",\n",
    "    #max_depth=4,\n",
    "    shrinkage=0.05,\n",
    "    #num_candidate_attributes_ratio=0.2,\n",
    "    split_axis=\"SPARSE_OBLIQUE\",\n",
    "    sparse_oblique_normalization=\"MIN_MAX\",\n",
    "    sparse_oblique_num_projections_exponent=2.0,\n",
    "    num_trees=2000,\n",
    "    #validation_ratio=0.0,\n",
    "    random_seed=1234,\n",
    "    \n",
    ")\n",
    "model.fit(train_ds)\n",
    "\n",
    "self_evaluation = model.make_inspector().evaluation()\n",
    "print(f\"Accuracy: {self_evaluation.accuracy} Loss:{self_evaluation.loss}\")"
   ]
  },
  {
   "cell_type": "markdown",
   "id": "12220a09",
   "metadata": {
    "papermill": {
     "duration": 0.009117,
     "end_time": "2023-08-16T14:36:06.948750",
     "exception": false,
     "start_time": "2023-08-16T14:36:06.939633",
     "status": "completed"
    },
    "tags": []
   },
   "source": [
    "Let's look at the model and you can also notice the information about variable importance that the model figured out"
   ]
  },
  {
   "cell_type": "code",
   "execution_count": 8,
   "id": "e27c8e1a",
   "metadata": {
    "execution": {
     "iopub.execute_input": "2023-08-16T14:36:06.969946Z",
     "iopub.status.busy": "2023-08-16T14:36:06.968786Z",
     "iopub.status.idle": "2023-08-16T14:36:06.987095Z",
     "shell.execute_reply": "2023-08-16T14:36:06.985632Z"
    },
    "papermill": {
     "duration": 0.035531,
     "end_time": "2023-08-16T14:36:06.993613",
     "exception": false,
     "start_time": "2023-08-16T14:36:06.958082",
     "status": "completed"
    },
    "tags": []
   },
   "outputs": [
    {
     "name": "stdout",
     "output_type": "stream",
     "text": [
      "Model: \"gradient_boosted_trees_model_1\"\n",
      "_________________________________________________________________\n",
      " Layer (type)                Output Shape              Param #   \n",
      "=================================================================\n",
      "=================================================================\n",
      "Total params: 1\n",
      "Trainable params: 0\n",
      "Non-trainable params: 1\n",
      "_________________________________________________________________\n",
      "Type: \"GRADIENT_BOOSTED_TREES\"\n",
      "Task: CLASSIFICATION\n",
      "Label: \"__LABEL\"\n",
      "\n",
      "Input Features (11):\n",
      "\tAge\n",
      "\tCabin\n",
      "\tEmbarked\n",
      "\tFare\n",
      "\tName\n",
      "\tParch\n",
      "\tPclass\n",
      "\tSex\n",
      "\tSibSp\n",
      "\tTicket_item\n",
      "\tTicket_number\n",
      "\n",
      "No weights\n",
      "\n",
      "Variable Importance: INV_MEAN_MIN_DEPTH:\n",
      "    1.           \"Sex\"  0.576632 ################\n",
      "    2.           \"Age\"  0.364297 #######\n",
      "    3.          \"Fare\"  0.278839 ####\n",
      "    4.          \"Name\"  0.208548 #\n",
      "    5. \"Ticket_number\"  0.180792 \n",
      "    6.        \"Pclass\"  0.176962 \n",
      "    7.         \"Parch\"  0.176659 \n",
      "    8.   \"Ticket_item\"  0.175540 \n",
      "    9.      \"Embarked\"  0.172339 \n",
      "   10.         \"SibSp\"  0.170442 \n",
      "\n",
      "Variable Importance: NUM_AS_ROOT:\n",
      "    1.  \"Sex\" 28.000000 ################\n",
      "    2. \"Name\"  5.000000 \n",
      "\n",
      "Variable Importance: NUM_NODES:\n",
      "    1.           \"Age\" 406.000000 ################\n",
      "    2.          \"Fare\" 290.000000 ###########\n",
      "    3.          \"Name\" 44.000000 #\n",
      "    4.   \"Ticket_item\" 42.000000 #\n",
      "    5.           \"Sex\" 31.000000 #\n",
      "    6.         \"Parch\" 28.000000 \n",
      "    7. \"Ticket_number\" 22.000000 \n",
      "    8.        \"Pclass\" 15.000000 \n",
      "    9.      \"Embarked\" 12.000000 \n",
      "   10.         \"SibSp\"  5.000000 \n",
      "\n",
      "Variable Importance: SUM_SCORE:\n",
      "    1.           \"Sex\" 460.497828 ################\n",
      "    2.           \"Age\" 355.963333 ############\n",
      "    3.          \"Fare\" 292.870316 ##########\n",
      "    4.          \"Name\" 108.548952 ###\n",
      "    5.        \"Pclass\" 28.132254 \n",
      "    6.   \"Ticket_item\" 23.818676 \n",
      "    7. \"Ticket_number\" 23.772288 \n",
      "    8.         \"Parch\" 19.303155 \n",
      "    9.      \"Embarked\"  8.155722 \n",
      "   10.         \"SibSp\"  0.015225 \n",
      "\n",
      "\n",
      "\n",
      "Loss: BINOMIAL_LOG_LIKELIHOOD\n",
      "Validation loss value: 1.01542\n",
      "Number of trees per iteration: 1\n",
      "Node format: NOT_SET\n",
      "Number of trees: 33\n",
      "Total number of nodes: 1823\n",
      "\n",
      "Number of nodes by tree:\n",
      "Count: 33 Average: 55.2424 StdDev: 5.13473\n",
      "Min: 39 Max: 63 Ignored: 0\n",
      "----------------------------------------------\n",
      "[ 39, 40) 1   3.03%   3.03% #\n",
      "[ 40, 41) 0   0.00%   3.03%\n",
      "[ 41, 42) 0   0.00%   3.03%\n",
      "[ 42, 44) 0   0.00%   3.03%\n",
      "[ 44, 45) 0   0.00%   3.03%\n",
      "[ 45, 46) 0   0.00%   3.03%\n",
      "[ 46, 47) 0   0.00%   3.03%\n",
      "[ 47, 49) 2   6.06%   9.09% ###\n",
      "[ 49, 50) 2   6.06%  15.15% ###\n",
      "[ 50, 51) 0   0.00%  15.15%\n",
      "[ 51, 52) 2   6.06%  21.21% ###\n",
      "[ 52, 54) 5  15.15%  36.36% #######\n",
      "[ 54, 55) 0   0.00%  36.36%\n",
      "[ 55, 56) 5  15.15%  51.52% #######\n",
      "[ 56, 57) 0   0.00%  51.52%\n",
      "[ 57, 59) 4  12.12%  63.64% ######\n",
      "[ 59, 60) 7  21.21%  84.85% ##########\n",
      "[ 60, 61) 0   0.00%  84.85%\n",
      "[ 61, 62) 3   9.09%  93.94% ####\n",
      "[ 62, 63] 2   6.06% 100.00% ###\n",
      "\n",
      "Depth by leafs:\n",
      "Count: 928 Average: 4.8847 StdDev: 0.380934\n",
      "Min: 2 Max: 5 Ignored: 0\n",
      "----------------------------------------------\n",
      "[ 2, 3)   1   0.11%   0.11%\n",
      "[ 3, 4)  17   1.83%   1.94%\n",
      "[ 4, 5)  70   7.54%   9.48% #\n",
      "[ 5, 5] 840  90.52% 100.00% ##########\n",
      "\n",
      "Number of training obs by leaf:\n",
      "Count: 928 Average: 28.4127 StdDev: 70.8313\n",
      "Min: 1 Max: 438 Ignored: 0\n",
      "----------------------------------------------\n",
      "[   1,  22) 731  78.77%  78.77% ##########\n",
      "[  22,  44)  74   7.97%  86.75% #\n",
      "[  44,  66)  37   3.99%  90.73% #\n",
      "[  66,  88)   3   0.32%  91.06%\n",
      "[  88, 110)   9   0.97%  92.03%\n",
      "[ 110, 132)   8   0.86%  92.89%\n",
      "[ 132, 154)  18   1.94%  94.83%\n",
      "[ 154, 176)   8   0.86%  95.69%\n",
      "[ 176, 198)   6   0.65%  96.34%\n",
      "[ 198, 220)   2   0.22%  96.55%\n",
      "[ 220, 241)   2   0.22%  96.77%\n",
      "[ 241, 263)   1   0.11%  96.88%\n",
      "[ 263, 285)   2   0.22%  97.09%\n",
      "[ 285, 307)   5   0.54%  97.63%\n",
      "[ 307, 329)   1   0.11%  97.74%\n",
      "[ 329, 351)   2   0.22%  97.95%\n",
      "[ 351, 373)   6   0.65%  98.60%\n",
      "[ 373, 395)   6   0.65%  99.25%\n",
      "[ 395, 417)   2   0.22%  99.46%\n",
      "[ 417, 438]   5   0.54% 100.00%\n",
      "\n",
      "Attribute in nodes:\n",
      "\t406 : Age [NUMERICAL]\n",
      "\t290 : Fare [NUMERICAL]\n",
      "\t44 : Name [CATEGORICAL_SET]\n",
      "\t42 : Ticket_item [CATEGORICAL]\n",
      "\t31 : Sex [CATEGORICAL]\n",
      "\t28 : Parch [NUMERICAL]\n",
      "\t22 : Ticket_number [CATEGORICAL]\n",
      "\t15 : Pclass [NUMERICAL]\n",
      "\t12 : Embarked [CATEGORICAL]\n",
      "\t5 : SibSp [NUMERICAL]\n",
      "\n",
      "Attribute in nodes with depth <= 0:\n",
      "\t28 : Sex [CATEGORICAL]\n",
      "\t5 : Name [CATEGORICAL_SET]\n",
      "\n",
      "Attribute in nodes with depth <= 1:\n",
      "\t39 : Age [NUMERICAL]\n",
      "\t28 : Sex [CATEGORICAL]\n",
      "\t21 : Fare [NUMERICAL]\n",
      "\t5 : Name [CATEGORICAL_SET]\n",
      "\t3 : Pclass [NUMERICAL]\n",
      "\t2 : Ticket_number [CATEGORICAL]\n",
      "\t1 : Parch [NUMERICAL]\n",
      "\n",
      "Attribute in nodes with depth <= 2:\n",
      "\t102 : Age [NUMERICAL]\n",
      "\t65 : Fare [NUMERICAL]\n",
      "\t28 : Sex [CATEGORICAL]\n",
      "\t15 : Name [CATEGORICAL_SET]\n",
      "\t7 : Ticket_number [CATEGORICAL]\n",
      "\t5 : Pclass [NUMERICAL]\n",
      "\t4 : Parch [NUMERICAL]\n",
      "\t2 : Ticket_item [CATEGORICAL]\n",
      "\t2 : Embarked [CATEGORICAL]\n",
      "\n",
      "Attribute in nodes with depth <= 3:\n",
      "\t206 : Age [NUMERICAL]\n",
      "\t156 : Fare [NUMERICAL]\n",
      "\t33 : Name [CATEGORICAL_SET]\n",
      "\t29 : Sex [CATEGORICAL]\n",
      "\t19 : Ticket_number [CATEGORICAL]\n",
      "\t11 : Ticket_item [CATEGORICAL]\n",
      "\t11 : Parch [NUMERICAL]\n",
      "\t7 : Pclass [NUMERICAL]\n",
      "\t3 : Embarked [CATEGORICAL]\n",
      "\n",
      "Attribute in nodes with depth <= 5:\n",
      "\t406 : Age [NUMERICAL]\n",
      "\t290 : Fare [NUMERICAL]\n",
      "\t44 : Name [CATEGORICAL_SET]\n",
      "\t42 : Ticket_item [CATEGORICAL]\n",
      "\t31 : Sex [CATEGORICAL]\n",
      "\t28 : Parch [NUMERICAL]\n",
      "\t22 : Ticket_number [CATEGORICAL]\n",
      "\t15 : Pclass [NUMERICAL]\n",
      "\t12 : Embarked [CATEGORICAL]\n",
      "\t5 : SibSp [NUMERICAL]\n",
      "\n",
      "Condition type in nodes:\n",
      "\t744 : ObliqueCondition\n",
      "\t122 : ContainsBitmapCondition\n",
      "\t29 : ContainsCondition\n",
      "Condition type in nodes with depth <= 0:\n",
      "\t31 : ContainsBitmapCondition\n",
      "\t2 : ContainsCondition\n",
      "Condition type in nodes with depth <= 1:\n",
      "\t64 : ObliqueCondition\n",
      "\t33 : ContainsBitmapCondition\n",
      "\t2 : ContainsCondition\n",
      "Condition type in nodes with depth <= 2:\n",
      "\t176 : ObliqueCondition\n",
      "\t51 : ContainsBitmapCondition\n",
      "\t3 : ContainsCondition\n",
      "Condition type in nodes with depth <= 3:\n",
      "\t380 : ObliqueCondition\n",
      "\t77 : ContainsBitmapCondition\n",
      "\t18 : ContainsCondition\n",
      "Condition type in nodes with depth <= 5:\n",
      "\t744 : ObliqueCondition\n",
      "\t122 : ContainsBitmapCondition\n",
      "\t29 : ContainsCondition\n",
      "\n",
      "Training logs:\n",
      "Number of iteration to final model: 33\n",
      "\tIter:1 train-loss:1.266350 valid-loss:1.360049  train-accuracy:0.624531 valid-accuracy:0.543478\n",
      "\tIter:2 train-loss:1.213702 valid-loss:1.321897  train-accuracy:0.624531 valid-accuracy:0.543478\n",
      "\tIter:3 train-loss:1.165783 valid-loss:1.286817  train-accuracy:0.624531 valid-accuracy:0.543478\n",
      "\tIter:4 train-loss:1.122469 valid-loss:1.256133  train-accuracy:0.624531 valid-accuracy:0.543478\n",
      "\tIter:5 train-loss:1.081461 valid-loss:1.229342  train-accuracy:0.808511 valid-accuracy:0.771739\n",
      "\tIter:6 train-loss:1.045305 valid-loss:1.204601  train-accuracy:0.826033 valid-accuracy:0.728261\n",
      "\tIter:16 train-loss:0.794952 valid-loss:1.058568  train-accuracy:0.914894 valid-accuracy:0.771739\n",
      "\tIter:26 train-loss:0.646146 valid-loss:1.021539  train-accuracy:0.926158 valid-accuracy:0.793478\n",
      "\tIter:36 train-loss:0.558627 valid-loss:1.023663  train-accuracy:0.929912 valid-accuracy:0.771739\n",
      "\tIter:46 train-loss:0.493899 valid-loss:1.025164  train-accuracy:0.931164 valid-accuracy:0.760870\n",
      "\tIter:56 train-loss:0.451528 valid-loss:1.032880  train-accuracy:0.938673 valid-accuracy:0.771739\n",
      "\n"
     ]
    }
   ],
   "source": [
    "model.summary()"
   ]
  },
  {
   "cell_type": "markdown",
   "id": "b544c7ad",
   "metadata": {
    "papermill": {
     "duration": 0.010188,
     "end_time": "2023-08-16T14:36:07.014562",
     "exception": false,
     "start_time": "2023-08-16T14:36:07.004374",
     "status": "completed"
    },
    "tags": []
   },
   "source": [
    "# Make predictions"
   ]
  },
  {
   "cell_type": "code",
   "execution_count": 9,
   "id": "9068b5c6",
   "metadata": {
    "execution": {
     "iopub.execute_input": "2023-08-16T14:36:07.037811Z",
     "iopub.status.busy": "2023-08-16T14:36:07.037371Z",
     "iopub.status.idle": "2023-08-16T14:36:08.299138Z",
     "shell.execute_reply": "2023-08-16T14:36:08.297795Z"
    },
    "papermill": {
     "duration": 1.277009,
     "end_time": "2023-08-16T14:36:08.302078",
     "exception": false,
     "start_time": "2023-08-16T14:36:07.025069",
     "status": "completed"
    },
    "tags": []
   },
   "outputs": [
    {
     "name": "stdout",
     "output_type": "stream",
     "text": [
      "Submission exported to /kaggle/working/submission.csv\n",
      "PassengerId,Survived\r\n",
      "892,0\r\n",
      "893,0\r\n",
      "894,0\r\n",
      "895,0\r\n",
      "896,0\r\n",
      "897,0\r\n",
      "898,0\r\n",
      "899,0\r\n",
      "900,1\r\n"
     ]
    }
   ],
   "source": [
    "def prediction_to_kaggle_format(model, threshold=0.5):\n",
    "    proba_survive = model.predict(serving_ds, verbose=0)[:,0]\n",
    "    return pd.DataFrame({\n",
    "        \"PassengerId\": serving_df[\"PassengerId\"],\n",
    "        \"Survived\": (proba_survive >= threshold).astype(int)\n",
    "    })\n",
    "\n",
    "def make_submission(kaggle_predictions):\n",
    "    path=\"/kaggle/working/submission.csv\"\n",
    "    kaggle_predictions.to_csv(path, index=False)\n",
    "    print(f\"Submission exported to {path}\")\n",
    "    \n",
    "kaggle_predictions = prediction_to_kaggle_format(model)\n",
    "make_submission(kaggle_predictions)\n",
    "!head /kaggle/working/submission.csv"
   ]
  },
  {
   "cell_type": "markdown",
   "id": "afc2ba2b",
   "metadata": {
    "papermill": {
     "duration": 0.010587,
     "end_time": "2023-08-16T14:36:08.324013",
     "exception": false,
     "start_time": "2023-08-16T14:36:08.313426",
     "status": "completed"
    },
    "tags": []
   },
   "source": [
    "# Training a model with hyperparameter tunning\n",
    "\n",
    "Hyper-parameter tuning is enabled by specifying the tuner constructor argument of the model. The tuner object contains all the configuration of the tuner (search space, optimizer, trial and objective).\n"
   ]
  },
  {
   "cell_type": "code",
   "execution_count": 10,
   "id": "656979f1",
   "metadata": {
    "execution": {
     "iopub.execute_input": "2023-08-16T14:36:08.349491Z",
     "iopub.status.busy": "2023-08-16T14:36:08.348085Z",
     "iopub.status.idle": "2023-08-16T14:38:30.665683Z",
     "shell.execute_reply": "2023-08-16T14:38:30.664262Z"
    },
    "papermill": {
     "duration": 142.333415,
     "end_time": "2023-08-16T14:38:30.668676",
     "exception": false,
     "start_time": "2023-08-16T14:36:08.335261",
     "status": "completed"
    },
    "tags": []
   },
   "outputs": [
    {
     "name": "stdout",
     "output_type": "stream",
     "text": [
      "Use /tmp/tmpv3dzkfym as temporary training directory\n"
     ]
    },
    {
     "name": "stderr",
     "output_type": "stream",
     "text": [
      "[INFO 2023-08-16T14:38:14.057174208+00:00 kernel.cc:1214] Loading model from path /tmp/tmpv3dzkfym/model/ with prefix a00096801a554237\n",
      "[INFO 2023-08-16T14:38:14.071926019+00:00 decision_forest.cc:661] Model loaded with 19 root(s), 589 node(s), and 12 input feature(s).\n",
      "[INFO 2023-08-16T14:38:14.071974854+00:00 abstract_model.cc:1311] Engine \"GradientBoostedTreesGeneric\" built\n",
      "[INFO 2023-08-16T14:38:14.07200182+00:00 kernel.cc:1046] Use fast generic engine\n"
     ]
    },
    {
     "name": "stdout",
     "output_type": "stream",
     "text": [
      "Accuracy: 0.9178082346916199 Loss:0.6503586769104004\n"
     ]
    }
   ],
   "source": [
    "tuner = tfdf.tuner.RandomSearch(num_trials=1000)\n",
    "tuner.choice(\"min_examples\", [2, 5, 7, 10])\n",
    "tuner.choice(\"categorical_algorithm\", [\"CART\", \"RANDOM\"])\n",
    "\n",
    "local_search_space = tuner.choice(\"growing_strategy\", [\"LOCAL\"])\n",
    "local_search_space.choice(\"max_depth\", [3, 4, 5, 6, 8])\n",
    "\n",
    "global_search_space = tuner.choice(\"growing_strategy\", [\"BEST_FIRST_GLOBAL\"], merge=True)\n",
    "global_search_space.choice(\"max_num_nodes\", [16, 32, 64, 128, 256])\n",
    "\n",
    "#tuner.choice(\"use_hessian_gain\", [True, False])\n",
    "tuner.choice(\"shrinkage\", [0.02, 0.05, 0.10, 0.15])\n",
    "tuner.choice(\"num_candidate_attributes_ratio\", [0.2, 0.5, 0.9, 1.0])\n",
    "\n",
    "\n",
    "tuner.choice(\"split_axis\", [\"AXIS_ALIGNED\"])\n",
    "oblique_space = tuner.choice(\"split_axis\", [\"SPARSE_OBLIQUE\"], merge=True)\n",
    "oblique_space.choice(\"sparse_oblique_normalization\",\n",
    "                     [\"NONE\", \"STANDARD_DEVIATION\", \"MIN_MAX\"])\n",
    "oblique_space.choice(\"sparse_oblique_weights\", [\"BINARY\", \"CONTINUOUS\"])\n",
    "oblique_space.choice(\"sparse_oblique_num_projections_exponent\", [1.0, 1.5])\n",
    "\n",
    "# Tune the model. Notice the `tuner=tuner`.\n",
    "tuned_model = tfdf.keras.GradientBoostedTreesModel(tuner=tuner)\n",
    "tuned_model.fit(train_ds, verbose=0)\n",
    "\n",
    "tuned_self_evaluation = tuned_model.make_inspector().evaluation()\n",
    "print(f\"Accuracy: {tuned_self_evaluation.accuracy} Loss:{tuned_self_evaluation.loss}\")"
   ]
  },
  {
   "cell_type": "markdown",
   "id": "1e67112b",
   "metadata": {
    "papermill": {
     "duration": 0.010516,
     "end_time": "2023-08-16T14:38:30.690736",
     "exception": false,
     "start_time": "2023-08-16T14:38:30.680220",
     "status": "completed"
    },
    "tags": []
   },
   "source": [
    "In the last line in the cell above, you can see the accuracy is higher than previously with default parameters and parameters set by hand.\n",
    "\n",
    "This is the main idea behing hyperparameter tuning.\n",
    "\n",
    "For more information you can follow this tutorial: [Automated hyper-parameter tuning](https://www.tensorflow.org/decision_forests/tutorials/automatic_tuning_colab)"
   ]
  },
  {
   "cell_type": "markdown",
   "id": "2966d51a",
   "metadata": {
    "papermill": {
     "duration": 0.010484,
     "end_time": "2023-08-16T14:38:30.712240",
     "exception": false,
     "start_time": "2023-08-16T14:38:30.701756",
     "status": "completed"
    },
    "tags": []
   },
   "source": [
    "# Making an ensemble\n",
    "\n",
    "Here you'll create 100 models with different seeds and combine their results\n",
    "\n",
    "This approach removes a little bit the random aspects related to creating ML models\n",
    "\n",
    "In the GBT creation is used the `honest` parameter. It will use different training examples to infer the structure and the leaf values. This regularization technique trades examples for bias estimates."
   ]
  },
  {
   "cell_type": "code",
   "execution_count": 11,
   "id": "24e96a70",
   "metadata": {
    "execution": {
     "iopub.execute_input": "2023-08-16T14:38:30.736125Z",
     "iopub.status.busy": "2023-08-16T14:38:30.735714Z",
     "iopub.status.idle": "2023-08-16T14:40:45.452828Z",
     "shell.execute_reply": "2023-08-16T14:40:45.451381Z"
    },
    "papermill": {
     "duration": 134.732616,
     "end_time": "2023-08-16T14:40:45.455712",
     "exception": false,
     "start_time": "2023-08-16T14:38:30.723096",
     "status": "completed"
    },
    "tags": []
   },
   "outputs": [
    {
     "name": "stdout",
     "output_type": "stream",
     "text": [
      "i:0\n"
     ]
    },
    {
     "name": "stderr",
     "output_type": "stream",
     "text": [
      "[INFO 2023-08-16T14:38:31.304456902+00:00 kernel.cc:1214] Loading model from path /tmp/tmpr6f7_hc5/model/ with prefix 1c3559c9050e4ae1\n",
      "[INFO 2023-08-16T14:38:31.30925631+00:00 abstract_model.cc:1311] Engine \"GradientBoostedTreesQuickScorerExtended\" built\n",
      "[INFO 2023-08-16T14:38:31.309336234+00:00 kernel.cc:1046] Use fast generic engine\n"
     ]
    },
    {
     "name": "stdout",
     "output_type": "stream",
     "text": [
      "i:1\n"
     ]
    },
    {
     "name": "stderr",
     "output_type": "stream",
     "text": [
      "[INFO 2023-08-16T14:38:32.847107458+00:00 kernel.cc:1214] Loading model from path /tmp/tmpx_sg9173/model/ with prefix c4d2a2a3cecc4f7f\n",
      "[INFO 2023-08-16T14:38:32.867327728+00:00 kernel.cc:1046] Use fast generic engine\n"
     ]
    },
    {
     "name": "stdout",
     "output_type": "stream",
     "text": [
      "i:2\n"
     ]
    },
    {
     "name": "stderr",
     "output_type": "stream",
     "text": [
      "[INFO 2023-08-16T14:38:33.923809212+00:00 kernel.cc:1214] Loading model from path /tmp/tmp4sdgbidk/model/ with prefix 56261469212d4379\n",
      "[INFO 2023-08-16T14:38:33.928614391+00:00 kernel.cc:1046] Use fast generic engine\n"
     ]
    },
    {
     "name": "stdout",
     "output_type": "stream",
     "text": [
      "i:3\n"
     ]
    },
    {
     "name": "stderr",
     "output_type": "stream",
     "text": [
      "[INFO 2023-08-16T14:38:35.510781107+00:00 kernel.cc:1214] Loading model from path /tmp/tmp4nan9iu6/model/ with prefix 0239889c15574522\n",
      "[INFO 2023-08-16T14:38:35.538433735+00:00 kernel.cc:1046] Use fast generic engine\n"
     ]
    },
    {
     "name": "stdout",
     "output_type": "stream",
     "text": [
      "i:4\n"
     ]
    },
    {
     "name": "stderr",
     "output_type": "stream",
     "text": [
      "[INFO 2023-08-16T14:38:36.601723434+00:00 kernel.cc:1214] Loading model from path /tmp/tmp9j_ix9kk/model/ with prefix 8891b452bd1a4d1f\n",
      "[INFO 2023-08-16T14:38:36.607724721+00:00 kernel.cc:1046] Use fast generic engine\n"
     ]
    },
    {
     "name": "stdout",
     "output_type": "stream",
     "text": [
      "i:5\n"
     ]
    },
    {
     "name": "stderr",
     "output_type": "stream",
     "text": [
      "[INFO 2023-08-16T14:38:37.598384245+00:00 kernel.cc:1214] Loading model from path /tmp/tmpjy7calck/model/ with prefix 70c8c77fef184fcb\n",
      "[INFO 2023-08-16T14:38:37.601493213+00:00 kernel.cc:1046] Use fast generic engine\n"
     ]
    },
    {
     "name": "stdout",
     "output_type": "stream",
     "text": [
      "i:6\n"
     ]
    },
    {
     "name": "stderr",
     "output_type": "stream",
     "text": [
      "[INFO 2023-08-16T14:38:38.708622621+00:00 kernel.cc:1214] Loading model from path /tmp/tmppmz3zk98/model/ with prefix 833a189270624c2d\n",
      "[INFO 2023-08-16T14:38:38.716636692+00:00 kernel.cc:1046] Use fast generic engine\n"
     ]
    },
    {
     "name": "stdout",
     "output_type": "stream",
     "text": [
      "i:7\n"
     ]
    },
    {
     "name": "stderr",
     "output_type": "stream",
     "text": [
      "[INFO 2023-08-16T14:38:40.189058173+00:00 kernel.cc:1214] Loading model from path /tmp/tmpdwd213uq/model/ with prefix cfd5f5942efd4dfe\n",
      "[INFO 2023-08-16T14:38:40.210162853+00:00 kernel.cc:1046] Use fast generic engine\n"
     ]
    },
    {
     "name": "stdout",
     "output_type": "stream",
     "text": [
      "i:8\n"
     ]
    },
    {
     "name": "stderr",
     "output_type": "stream",
     "text": [
      "[INFO 2023-08-16T14:38:41.40162987+00:00 kernel.cc:1214] Loading model from path /tmp/tmp92wxzlua/model/ with prefix c1b8a04589994d25\n",
      "[INFO 2023-08-16T14:38:41.412249726+00:00 abstract_model.cc:1311] Engine \"GradientBoostedTreesQuickScorerExtended\" built\n",
      "[INFO 2023-08-16T14:38:41.412322389+00:00 kernel.cc:1046] Use fast generic engine\n"
     ]
    },
    {
     "name": "stdout",
     "output_type": "stream",
     "text": [
      "i:9\n"
     ]
    },
    {
     "name": "stderr",
     "output_type": "stream",
     "text": [
      "[INFO 2023-08-16T14:38:43.202240379+00:00 kernel.cc:1214] Loading model from path /tmp/tmpkxpqg699/model/ with prefix 231bbd6390b84197\n",
      "[INFO 2023-08-16T14:38:43.219551412+00:00 kernel.cc:1046] Use fast generic engine\n"
     ]
    },
    {
     "name": "stdout",
     "output_type": "stream",
     "text": [
      "i:10\n"
     ]
    },
    {
     "name": "stderr",
     "output_type": "stream",
     "text": [
      "[INFO 2023-08-16T14:38:44.306287287+00:00 kernel.cc:1214] Loading model from path /tmp/tmplubus_p8/model/ with prefix e742f0ca43774211\n",
      "[INFO 2023-08-16T14:38:44.312706822+00:00 kernel.cc:1046] Use fast generic engine\n"
     ]
    },
    {
     "name": "stdout",
     "output_type": "stream",
     "text": [
      "i:11\n"
     ]
    },
    {
     "name": "stderr",
     "output_type": "stream",
     "text": [
      "[INFO 2023-08-16T14:38:45.610177837+00:00 kernel.cc:1214] Loading model from path /tmp/tmp7zzftlii/model/ with prefix 8c092a4955e74c8e\n",
      "[INFO 2023-08-16T14:38:45.625915338+00:00 kernel.cc:1046] Use fast generic engine\n"
     ]
    },
    {
     "name": "stdout",
     "output_type": "stream",
     "text": [
      "i:12\n"
     ]
    },
    {
     "name": "stderr",
     "output_type": "stream",
     "text": [
      "[INFO 2023-08-16T14:38:47.091513885+00:00 kernel.cc:1214] Loading model from path /tmp/tmpc3go5_rr/model/ with prefix 43565000ceeb4415\n",
      "[INFO 2023-08-16T14:38:47.098053366+00:00 kernel.cc:1046] Use fast generic engine\n"
     ]
    },
    {
     "name": "stdout",
     "output_type": "stream",
     "text": [
      "i:13\n"
     ]
    },
    {
     "name": "stderr",
     "output_type": "stream",
     "text": [
      "[INFO 2023-08-16T14:38:48.301832421+00:00 kernel.cc:1214] Loading model from path /tmp/tmphcxfv2zy/model/ with prefix 8c3b878bc34d44c2\n",
      "[INFO 2023-08-16T14:38:48.313610213+00:00 kernel.cc:1046] Use fast generic engine\n"
     ]
    },
    {
     "name": "stdout",
     "output_type": "stream",
     "text": [
      "i:14\n"
     ]
    },
    {
     "name": "stderr",
     "output_type": "stream",
     "text": [
      "[INFO 2023-08-16T14:38:49.401691835+00:00 kernel.cc:1214] Loading model from path /tmp/tmpmoo0tsfy/model/ with prefix 9fc34526575f4a63\n",
      "[INFO 2023-08-16T14:38:49.408232515+00:00 kernel.cc:1046] Use fast generic engine\n"
     ]
    },
    {
     "name": "stdout",
     "output_type": "stream",
     "text": [
      "i:15\n"
     ]
    },
    {
     "name": "stderr",
     "output_type": "stream",
     "text": [
      "[INFO 2023-08-16T14:38:50.522511645+00:00 kernel.cc:1214] Loading model from path /tmp/tmpje_41h7m/model/ with prefix a397c9f9d6f14cb9\n",
      "[INFO 2023-08-16T14:38:50.530419585+00:00 kernel.cc:1046] Use fast generic engine\n"
     ]
    },
    {
     "name": "stdout",
     "output_type": "stream",
     "text": [
      "i:16\n"
     ]
    },
    {
     "name": "stderr",
     "output_type": "stream",
     "text": [
      "[INFO 2023-08-16T14:38:51.797213679+00:00 kernel.cc:1214] Loading model from path /tmp/tmpebxn_k03/model/ with prefix 9c207cc692224dac\n",
      "[INFO 2023-08-16T14:38:51.81077588+00:00 abstract_model.cc:1311] Engine \"GradientBoostedTreesQuickScorerExtended\" built\n",
      "[INFO 2023-08-16T14:38:51.810843047+00:00 kernel.cc:1046] Use fast generic engine\n"
     ]
    },
    {
     "name": "stdout",
     "output_type": "stream",
     "text": [
      "i:17\n"
     ]
    },
    {
     "name": "stderr",
     "output_type": "stream",
     "text": [
      "[INFO 2023-08-16T14:38:53.555049788+00:00 kernel.cc:1214] Loading model from path /tmp/tmpi58zz_w9/model/ with prefix 98a4b5d2cf494e23\n",
      "[INFO 2023-08-16T14:38:53.569595687+00:00 kernel.cc:1046] Use fast generic engine\n"
     ]
    },
    {
     "name": "stdout",
     "output_type": "stream",
     "text": [
      "i:18\n"
     ]
    },
    {
     "name": "stderr",
     "output_type": "stream",
     "text": [
      "[INFO 2023-08-16T14:38:54.811775291+00:00 kernel.cc:1214] Loading model from path /tmp/tmp94zuc_z4/model/ with prefix dc981aa6190b4302\n",
      "[INFO 2023-08-16T14:38:54.823833462+00:00 kernel.cc:1046] Use fast generic engine\n"
     ]
    },
    {
     "name": "stdout",
     "output_type": "stream",
     "text": [
      "i:19\n"
     ]
    },
    {
     "name": "stderr",
     "output_type": "stream",
     "text": [
      "[INFO 2023-08-16T14:38:56.269102904+00:00 kernel.cc:1214] Loading model from path /tmp/tmpk9mudlan/model/ with prefix ac7f63c55d784a07\n",
      "[INFO 2023-08-16T14:38:56.289370524+00:00 kernel.cc:1046] Use fast generic engine\n"
     ]
    },
    {
     "name": "stdout",
     "output_type": "stream",
     "text": [
      "i:20\n"
     ]
    },
    {
     "name": "stderr",
     "output_type": "stream",
     "text": [
      "[INFO 2023-08-16T14:38:57.625646821+00:00 kernel.cc:1214] Loading model from path /tmp/tmpv9341hci/model/ with prefix ceeb26fd959b4e56\n",
      "[INFO 2023-08-16T14:38:57.641872008+00:00 kernel.cc:1046] Use fast generic engine\n"
     ]
    },
    {
     "name": "stdout",
     "output_type": "stream",
     "text": [
      "i:21\n"
     ]
    },
    {
     "name": "stderr",
     "output_type": "stream",
     "text": [
      "[INFO 2023-08-16T14:38:59.070751763+00:00 kernel.cc:1214] Loading model from path /tmp/tmpbvb8rg9n/model/ with prefix c4f1cc3f829d448c\n",
      "[INFO 2023-08-16T14:38:59.076471365+00:00 kernel.cc:1046] Use fast generic engine\n"
     ]
    },
    {
     "name": "stdout",
     "output_type": "stream",
     "text": [
      "i:22\n"
     ]
    },
    {
     "name": "stderr",
     "output_type": "stream",
     "text": [
      "[INFO 2023-08-16T14:39:00.130505387+00:00 kernel.cc:1214] Loading model from path /tmp/tmpmzx1tydf/model/ with prefix 359ab3f38ee44707\n",
      "[INFO 2023-08-16T14:39:00.136611113+00:00 kernel.cc:1046] Use fast generic engine\n"
     ]
    },
    {
     "name": "stdout",
     "output_type": "stream",
     "text": [
      "i:23\n"
     ]
    },
    {
     "name": "stderr",
     "output_type": "stream",
     "text": [
      "[INFO 2023-08-16T14:39:01.284130346+00:00 kernel.cc:1214] Loading model from path /tmp/tmpb8r3uvhq/model/ with prefix 3a269f1f5dbc4205\n",
      "[INFO 2023-08-16T14:39:01.29380068+00:00 kernel.cc:1046] Use fast generic engine\n"
     ]
    },
    {
     "name": "stdout",
     "output_type": "stream",
     "text": [
      "i:24\n"
     ]
    },
    {
     "name": "stderr",
     "output_type": "stream",
     "text": [
      "[INFO 2023-08-16T14:39:02.96692726+00:00 kernel.cc:1214] Loading model from path /tmp/tmp6apwopnv/model/ with prefix 24c2e70ed8954d38\n",
      "[INFO 2023-08-16T14:39:02.973566982+00:00 abstract_model.cc:1311] Engine \"GradientBoostedTreesQuickScorerExtended\" built\n",
      "[INFO 2023-08-16T14:39:02.973606079+00:00 kernel.cc:1046] Use fast generic engine\n"
     ]
    },
    {
     "name": "stdout",
     "output_type": "stream",
     "text": [
      "i:25\n"
     ]
    },
    {
     "name": "stderr",
     "output_type": "stream",
     "text": [
      "[INFO 2023-08-16T14:39:04.845419948+00:00 kernel.cc:1214] Loading model from path /tmp/tmpux_xo8m0/model/ with prefix 359d9d7c37464857\n",
      "[INFO 2023-08-16T14:39:04.857748277+00:00 kernel.cc:1046] Use fast generic engine\n"
     ]
    },
    {
     "name": "stdout",
     "output_type": "stream",
     "text": [
      "i:26\n"
     ]
    },
    {
     "name": "stderr",
     "output_type": "stream",
     "text": [
      "[INFO 2023-08-16T14:39:06.494952866+00:00 kernel.cc:1214] Loading model from path /tmp/tmpjil8yt21/model/ with prefix ababf0672de8492e\n",
      "[INFO 2023-08-16T14:39:06.505553122+00:00 kernel.cc:1046] Use fast generic engine\n"
     ]
    },
    {
     "name": "stdout",
     "output_type": "stream",
     "text": [
      "i:27\n"
     ]
    },
    {
     "name": "stderr",
     "output_type": "stream",
     "text": [
      "[INFO 2023-08-16T14:39:07.577414635+00:00 kernel.cc:1214] Loading model from path /tmp/tmpiq6axp29/model/ with prefix 8ec8da1d742446fa\n",
      "[INFO 2023-08-16T14:39:07.584514347+00:00 kernel.cc:1046] Use fast generic engine\n"
     ]
    },
    {
     "name": "stdout",
     "output_type": "stream",
     "text": [
      "i:28\n"
     ]
    },
    {
     "name": "stderr",
     "output_type": "stream",
     "text": [
      "[INFO 2023-08-16T14:39:08.64724329+00:00 kernel.cc:1214] Loading model from path /tmp/tmpemwhftbg/model/ with prefix 7841aa30dc7e4411\n",
      "[INFO 2023-08-16T14:39:08.653075084+00:00 kernel.cc:1046] Use fast generic engine\n"
     ]
    },
    {
     "name": "stdout",
     "output_type": "stream",
     "text": [
      "i:29\n"
     ]
    },
    {
     "name": "stderr",
     "output_type": "stream",
     "text": [
      "[INFO 2023-08-16T14:39:09.921747978+00:00 kernel.cc:1214] Loading model from path /tmp/tmpzgdiz77o/model/ with prefix 03b825501bbb40db\n",
      "[INFO 2023-08-16T14:39:09.93545838+00:00 kernel.cc:1046] Use fast generic engine\n"
     ]
    },
    {
     "name": "stdout",
     "output_type": "stream",
     "text": [
      "i:30\n"
     ]
    },
    {
     "name": "stderr",
     "output_type": "stream",
     "text": [
      "[INFO 2023-08-16T14:39:11.99779871+00:00 kernel.cc:1214] Loading model from path /tmp/tmpr3qey2zd/model/ with prefix cc7dee65b08e47ca\n",
      "[INFO 2023-08-16T14:39:12.026275291+00:00 kernel.cc:1046] Use fast generic engine\n"
     ]
    },
    {
     "name": "stdout",
     "output_type": "stream",
     "text": [
      "i:31\n"
     ]
    },
    {
     "name": "stderr",
     "output_type": "stream",
     "text": [
      "[INFO 2023-08-16T14:39:13.811047698+00:00 kernel.cc:1214] Loading model from path /tmp/tmp_zjl0k0x/model/ with prefix 8d76c42a2ea94150\n",
      "[INFO 2023-08-16T14:39:13.822940982+00:00 abstract_model.cc:1311] Engine \"GradientBoostedTreesQuickScorerExtended\" built\n",
      "[INFO 2023-08-16T14:39:13.822986077+00:00 kernel.cc:1046] Use fast generic engine\n"
     ]
    },
    {
     "name": "stdout",
     "output_type": "stream",
     "text": [
      "i:32\n"
     ]
    },
    {
     "name": "stderr",
     "output_type": "stream",
     "text": [
      "[INFO 2023-08-16T14:39:14.937003582+00:00 kernel.cc:1214] Loading model from path /tmp/tmpbtg4xcdj/model/ with prefix bbc88f75d14b42aa\n",
      "[INFO 2023-08-16T14:39:14.943584452+00:00 kernel.cc:1046] Use fast generic engine\n"
     ]
    },
    {
     "name": "stdout",
     "output_type": "stream",
     "text": [
      "i:33\n"
     ]
    },
    {
     "name": "stderr",
     "output_type": "stream",
     "text": [
      "[INFO 2023-08-16T14:39:16.229380368+00:00 kernel.cc:1214] Loading model from path /tmp/tmpti964dtm/model/ with prefix f078a415dee24536\n",
      "[INFO 2023-08-16T14:39:16.243821436+00:00 kernel.cc:1046] Use fast generic engine\n"
     ]
    },
    {
     "name": "stdout",
     "output_type": "stream",
     "text": [
      "i:34\n"
     ]
    },
    {
     "name": "stderr",
     "output_type": "stream",
     "text": [
      "[INFO 2023-08-16T14:39:17.848435229+00:00 kernel.cc:1214] Loading model from path /tmp/tmpsvt7xq6g/model/ with prefix 01b44fa93fd64f82\n",
      "[INFO 2023-08-16T14:39:17.857874598+00:00 kernel.cc:1046] Use fast generic engine\n"
     ]
    },
    {
     "name": "stdout",
     "output_type": "stream",
     "text": [
      "i:35\n"
     ]
    },
    {
     "name": "stderr",
     "output_type": "stream",
     "text": [
      "[INFO 2023-08-16T14:39:18.976403308+00:00 kernel.cc:1214] Loading model from path /tmp/tmpq0vnlos7/model/ with prefix d98758b1252c4eab\n",
      "[INFO 2023-08-16T14:39:18.985804079+00:00 kernel.cc:1046] Use fast generic engine\n"
     ]
    },
    {
     "name": "stdout",
     "output_type": "stream",
     "text": [
      "i:36\n"
     ]
    },
    {
     "name": "stderr",
     "output_type": "stream",
     "text": [
      "[INFO 2023-08-16T14:39:20.277924817+00:00 kernel.cc:1214] Loading model from path /tmp/tmpds_nu1q2/model/ with prefix a86cfd3e2c904f32\n",
      "[INFO 2023-08-16T14:39:20.293245329+00:00 kernel.cc:1046] Use fast generic engine\n"
     ]
    },
    {
     "name": "stdout",
     "output_type": "stream",
     "text": [
      "i:37\n"
     ]
    },
    {
     "name": "stderr",
     "output_type": "stream",
     "text": [
      "[INFO 2023-08-16T14:39:21.448203114+00:00 kernel.cc:1214] Loading model from path /tmp/tmpyuwzzb4v/model/ with prefix 40ebc48e154049be\n",
      "[INFO 2023-08-16T14:39:21.458238145+00:00 kernel.cc:1046] Use fast generic engine\n"
     ]
    },
    {
     "name": "stdout",
     "output_type": "stream",
     "text": [
      "i:38\n"
     ]
    },
    {
     "name": "stderr",
     "output_type": "stream",
     "text": [
      "[INFO 2023-08-16T14:39:22.76545516+00:00 kernel.cc:1214] Loading model from path /tmp/tmp3obze_cc/model/ with prefix a22c7cea57a441f0\n",
      "[INFO 2023-08-16T14:39:22.783026696+00:00 kernel.cc:1046] Use fast generic engine\n"
     ]
    },
    {
     "name": "stdout",
     "output_type": "stream",
     "text": [
      "i:39\n"
     ]
    },
    {
     "name": "stderr",
     "output_type": "stream",
     "text": [
      "[INFO 2023-08-16T14:39:24.047111507+00:00 kernel.cc:1214] Loading model from path /tmp/tmpuihgvwgp/model/ with prefix f15d2463516347ea\n",
      "[INFO 2023-08-16T14:39:24.060848507+00:00 abstract_model.cc:1311] Engine \"GradientBoostedTreesQuickScorerExtended\" built\n",
      "[INFO 2023-08-16T14:39:24.061117136+00:00 kernel.cc:1046] Use fast generic engine\n"
     ]
    },
    {
     "name": "stdout",
     "output_type": "stream",
     "text": [
      "i:40\n"
     ]
    },
    {
     "name": "stderr",
     "output_type": "stream",
     "text": [
      "[INFO 2023-08-16T14:39:25.095560796+00:00 kernel.cc:1214] Loading model from path /tmp/tmpn0xv2t75/model/ with prefix 355a811cb5824088\n",
      "[INFO 2023-08-16T14:39:25.100405602+00:00 kernel.cc:1046] Use fast generic engine\n"
     ]
    },
    {
     "name": "stdout",
     "output_type": "stream",
     "text": [
      "i:41\n"
     ]
    },
    {
     "name": "stderr",
     "output_type": "stream",
     "text": [
      "[INFO 2023-08-16T14:39:26.436253777+00:00 kernel.cc:1214] Loading model from path /tmp/tmpo40i05z1/model/ with prefix 21640fed765d488e\n",
      "[INFO 2023-08-16T14:39:26.452640496+00:00 kernel.cc:1046] Use fast generic engine\n"
     ]
    },
    {
     "name": "stdout",
     "output_type": "stream",
     "text": [
      "i:42\n"
     ]
    },
    {
     "name": "stderr",
     "output_type": "stream",
     "text": [
      "[INFO 2023-08-16T14:39:27.639682571+00:00 kernel.cc:1214] Loading model from path /tmp/tmptzspfvm7/model/ with prefix f42e1b7fcbb04488\n",
      "[INFO 2023-08-16T14:39:27.649730473+00:00 kernel.cc:1046] Use fast generic engine\n"
     ]
    },
    {
     "name": "stdout",
     "output_type": "stream",
     "text": [
      "i:43\n"
     ]
    },
    {
     "name": "stderr",
     "output_type": "stream",
     "text": [
      "[INFO 2023-08-16T14:39:29.035486564+00:00 kernel.cc:1214] Loading model from path /tmp/tmpz00mwcgu/model/ with prefix 7371faf2e09243c3\n",
      "[INFO 2023-08-16T14:39:29.053663586+00:00 kernel.cc:1046] Use fast generic engine\n"
     ]
    },
    {
     "name": "stdout",
     "output_type": "stream",
     "text": [
      "i:44\n"
     ]
    },
    {
     "name": "stderr",
     "output_type": "stream",
     "text": [
      "[INFO 2023-08-16T14:39:30.245277402+00:00 kernel.cc:1214] Loading model from path /tmp/tmp7jg3et2o/model/ with prefix 690e5a9db8e349b7\n",
      "[INFO 2023-08-16T14:39:30.255258566+00:00 kernel.cc:1046] Use fast generic engine\n"
     ]
    },
    {
     "name": "stdout",
     "output_type": "stream",
     "text": [
      "i:45\n"
     ]
    },
    {
     "name": "stderr",
     "output_type": "stream",
     "text": [
      "[INFO 2023-08-16T14:39:31.291235495+00:00 kernel.cc:1214] Loading model from path /tmp/tmpqts_6rwi/model/ with prefix 95ef4877f0294ea8\n",
      "[INFO 2023-08-16T14:39:31.295033096+00:00 kernel.cc:1046] Use fast generic engine\n"
     ]
    },
    {
     "name": "stdout",
     "output_type": "stream",
     "text": [
      "i:46\n"
     ]
    },
    {
     "name": "stderr",
     "output_type": "stream",
     "text": [
      "[INFO 2023-08-16T14:39:32.63151818+00:00 kernel.cc:1214] Loading model from path /tmp/tmp4dxcrv30/model/ with prefix 07563d565bcf4b2e\n",
      "[INFO 2023-08-16T14:39:32.646951255+00:00 kernel.cc:1046] Use fast generic engine\n"
     ]
    },
    {
     "name": "stdout",
     "output_type": "stream",
     "text": [
      "i:47\n"
     ]
    },
    {
     "name": "stderr",
     "output_type": "stream",
     "text": [
      "[INFO 2023-08-16T14:39:33.953579143+00:00 kernel.cc:1214] Loading model from path /tmp/tmpusna3wk9/model/ with prefix 161ee5722aaa4d36\n",
      "[INFO 2023-08-16T14:39:33.968057978+00:00 kernel.cc:1046] Use fast generic engine\n"
     ]
    },
    {
     "name": "stdout",
     "output_type": "stream",
     "text": [
      "i:48\n"
     ]
    },
    {
     "name": "stderr",
     "output_type": "stream",
     "text": [
      "[INFO 2023-08-16T14:39:35.049658042+00:00 kernel.cc:1214] Loading model from path /tmp/tmpqg99p1u_/model/ with prefix 89d9685adf524e35\n",
      "[INFO 2023-08-16T14:39:35.05622445+00:00 abstract_model.cc:1311] Engine \"GradientBoostedTreesQuickScorerExtended\" built\n",
      "[INFO 2023-08-16T14:39:35.056273686+00:00 kernel.cc:1046] Use fast generic engine\n"
     ]
    },
    {
     "name": "stdout",
     "output_type": "stream",
     "text": [
      "i:49\n"
     ]
    },
    {
     "name": "stderr",
     "output_type": "stream",
     "text": [
      "[INFO 2023-08-16T14:39:36.198883261+00:00 kernel.cc:1214] Loading model from path /tmp/tmpq93zlkb7/model/ with prefix f583c759d0f448cb\n",
      "[INFO 2023-08-16T14:39:36.206085877+00:00 kernel.cc:1046] Use fast generic engine\n"
     ]
    },
    {
     "name": "stdout",
     "output_type": "stream",
     "text": [
      "i:50\n"
     ]
    },
    {
     "name": "stderr",
     "output_type": "stream",
     "text": [
      "[INFO 2023-08-16T14:39:37.466135954+00:00 kernel.cc:1214] Loading model from path /tmp/tmpwhcdfexw/model/ with prefix d80b4c1595aa4710\n",
      "[INFO 2023-08-16T14:39:37.479157064+00:00 kernel.cc:1046] Use fast generic engine\n"
     ]
    },
    {
     "name": "stdout",
     "output_type": "stream",
     "text": [
      "i:51\n"
     ]
    },
    {
     "name": "stderr",
     "output_type": "stream",
     "text": [
      "[INFO 2023-08-16T14:39:38.836896678+00:00 kernel.cc:1214] Loading model from path /tmp/tmpuixwbvp_/model/ with prefix 97a155afee6541d1\n",
      "[INFO 2023-08-16T14:39:38.853977214+00:00 kernel.cc:1046] Use fast generic engine\n"
     ]
    },
    {
     "name": "stdout",
     "output_type": "stream",
     "text": [
      "i:52\n"
     ]
    },
    {
     "name": "stderr",
     "output_type": "stream",
     "text": [
      "[INFO 2023-08-16T14:39:40.006092094+00:00 kernel.cc:1214] Loading model from path /tmp/tmpcoafvhgz/model/ with prefix 071b898172fc49b1\n",
      "[INFO 2023-08-16T14:39:40.014158008+00:00 kernel.cc:1046] Use fast generic engine\n"
     ]
    },
    {
     "name": "stdout",
     "output_type": "stream",
     "text": [
      "i:53\n"
     ]
    },
    {
     "name": "stderr",
     "output_type": "stream",
     "text": [
      "[INFO 2023-08-16T14:39:41.146791101+00:00 kernel.cc:1214] Loading model from path /tmp/tmpe3uebzph/model/ with prefix d2f17d9d145f43df\n",
      "[INFO 2023-08-16T14:39:41.154629549+00:00 kernel.cc:1046] Use fast generic engine\n"
     ]
    },
    {
     "name": "stdout",
     "output_type": "stream",
     "text": [
      "i:54\n"
     ]
    },
    {
     "name": "stderr",
     "output_type": "stream",
     "text": [
      "[INFO 2023-08-16T14:39:42.179123532+00:00 kernel.cc:1214] Loading model from path /tmp/tmp04u478ge/model/ with prefix a969691b958c45b9\n",
      "[INFO 2023-08-16T14:39:42.182764305+00:00 kernel.cc:1046] Use fast generic engine\n"
     ]
    },
    {
     "name": "stdout",
     "output_type": "stream",
     "text": [
      "i:55\n"
     ]
    },
    {
     "name": "stderr",
     "output_type": "stream",
     "text": [
      "[INFO 2023-08-16T14:39:43.521974334+00:00 kernel.cc:1214] Loading model from path /tmp/tmpv096bgzh/model/ with prefix e29a304d549945e7\n",
      "[INFO 2023-08-16T14:39:43.537438241+00:00 kernel.cc:1046] Use fast generic engine\n"
     ]
    },
    {
     "name": "stdout",
     "output_type": "stream",
     "text": [
      "i:56\n"
     ]
    },
    {
     "name": "stderr",
     "output_type": "stream",
     "text": [
      "[INFO 2023-08-16T14:39:45.377407443+00:00 kernel.cc:1214] Loading model from path /tmp/tmprjsyns7m/model/ with prefix 475f0136b9694197\n",
      "[INFO 2023-08-16T14:39:45.391167932+00:00 abstract_model.cc:1311] Engine \"GradientBoostedTreesQuickScorerExtended\" built\n",
      "[INFO 2023-08-16T14:39:45.391216092+00:00 kernel.cc:1046] Use fast generic engine\n"
     ]
    },
    {
     "name": "stdout",
     "output_type": "stream",
     "text": [
      "i:57\n"
     ]
    },
    {
     "name": "stderr",
     "output_type": "stream",
     "text": [
      "[INFO 2023-08-16T14:39:46.48748816+00:00 kernel.cc:1214] Loading model from path /tmp/tmpoxz8uotl/model/ with prefix db2a163c28f84f26\n",
      "[INFO 2023-08-16T14:39:46.492251841+00:00 kernel.cc:1046] Use fast generic engine\n"
     ]
    },
    {
     "name": "stdout",
     "output_type": "stream",
     "text": [
      "i:58\n"
     ]
    },
    {
     "name": "stderr",
     "output_type": "stream",
     "text": [
      "[INFO 2023-08-16T14:39:47.631436589+00:00 kernel.cc:1214] Loading model from path /tmp/tmpul7td5wk/model/ with prefix f915dc8797eb4a83\n",
      "[INFO 2023-08-16T14:39:47.638909934+00:00 kernel.cc:1046] Use fast generic engine\n"
     ]
    },
    {
     "name": "stdout",
     "output_type": "stream",
     "text": [
      "i:59\n"
     ]
    },
    {
     "name": "stderr",
     "output_type": "stream",
     "text": [
      "[INFO 2023-08-16T14:39:48.854682569+00:00 kernel.cc:1214] Loading model from path /tmp/tmpl3xnfslr/model/ with prefix 3eff66f7af964abc\n",
      "[INFO 2023-08-16T14:39:48.864764206+00:00 kernel.cc:1046] Use fast generic engine\n"
     ]
    },
    {
     "name": "stdout",
     "output_type": "stream",
     "text": [
      "i:60\n"
     ]
    },
    {
     "name": "stderr",
     "output_type": "stream",
     "text": [
      "[INFO 2023-08-16T14:39:50.074270161+00:00 kernel.cc:1214] Loading model from path /tmp/tmpqkh0__58/model/ with prefix 34de3570079b4ec2\n",
      "[INFO 2023-08-16T14:39:50.084972717+00:00 kernel.cc:1046] Use fast generic engine\n"
     ]
    },
    {
     "name": "stdout",
     "output_type": "stream",
     "text": [
      "i:61\n"
     ]
    },
    {
     "name": "stderr",
     "output_type": "stream",
     "text": [
      "[INFO 2023-08-16T14:39:51.157965753+00:00 kernel.cc:1214] Loading model from path /tmp/tmpw0hs5d6c/model/ with prefix 6c08fc230bd749fb\n",
      "[INFO 2023-08-16T14:39:51.163505269+00:00 kernel.cc:1046] Use fast generic engine\n"
     ]
    },
    {
     "name": "stdout",
     "output_type": "stream",
     "text": [
      "i:62\n"
     ]
    },
    {
     "name": "stderr",
     "output_type": "stream",
     "text": [
      "[INFO 2023-08-16T14:39:52.857429+00:00 kernel.cc:1214] Loading model from path /tmp/tmpcrpiwz7c/model/ with prefix 52bf89fa968340ed\n",
      "[INFO 2023-08-16T14:39:52.884530617+00:00 kernel.cc:1046] Use fast generic engine\n"
     ]
    },
    {
     "name": "stdout",
     "output_type": "stream",
     "text": [
      "i:63\n"
     ]
    },
    {
     "name": "stderr",
     "output_type": "stream",
     "text": [
      "[INFO 2023-08-16T14:39:54.127676178+00:00 kernel.cc:1214] Loading model from path /tmp/tmp9yp93aqv/model/ with prefix 121e2c5ded234111\n",
      "[INFO 2023-08-16T14:39:54.137772356+00:00 kernel.cc:1046] Use fast generic engine\n"
     ]
    },
    {
     "name": "stdout",
     "output_type": "stream",
     "text": [
      "i:64\n"
     ]
    },
    {
     "name": "stderr",
     "output_type": "stream",
     "text": [
      "[INFO 2023-08-16T14:39:55.276371346+00:00 kernel.cc:1214] Loading model from path /tmp/tmpe0fwhm59/model/ with prefix 22e23fb09b1e4cff\n",
      "[INFO 2023-08-16T14:39:55.284597797+00:00 kernel.cc:1046] Use fast generic engine\n"
     ]
    },
    {
     "name": "stdout",
     "output_type": "stream",
     "text": [
      "i:65\n"
     ]
    },
    {
     "name": "stderr",
     "output_type": "stream",
     "text": [
      "[INFO 2023-08-16T14:39:56.34096924+00:00 kernel.cc:1214] Loading model from path /tmp/tmpap4do8mi/model/ with prefix 2ef7b8b254224bd2\n",
      "[INFO 2023-08-16T14:39:56.34660818+00:00 abstract_model.cc:1311] Engine \"GradientBoostedTreesQuickScorerExtended\" built\n",
      "[INFO 2023-08-16T14:39:56.346665644+00:00 kernel.cc:1046] Use fast generic engine\n"
     ]
    },
    {
     "name": "stdout",
     "output_type": "stream",
     "text": [
      "i:66\n"
     ]
    },
    {
     "name": "stderr",
     "output_type": "stream",
     "text": [
      "[INFO 2023-08-16T14:39:57.450742813+00:00 kernel.cc:1214] Loading model from path /tmp/tmphemuu5vt/model/ with prefix fbdaf67dc0fd4315\n",
      "[INFO 2023-08-16T14:39:57.45751128+00:00 kernel.cc:1046] Use fast generic engine\n"
     ]
    },
    {
     "name": "stdout",
     "output_type": "stream",
     "text": [
      "i:67\n"
     ]
    },
    {
     "name": "stderr",
     "output_type": "stream",
     "text": [
      "[INFO 2023-08-16T14:39:58.887184938+00:00 kernel.cc:1214] Loading model from path /tmp/tmpqtz8bzkw/model/ with prefix 266de6af396948cc\n",
      "[INFO 2023-08-16T14:39:58.907319306+00:00 kernel.cc:1046] Use fast generic engine\n"
     ]
    },
    {
     "name": "stdout",
     "output_type": "stream",
     "text": [
      "i:68\n"
     ]
    },
    {
     "name": "stderr",
     "output_type": "stream",
     "text": [
      "[INFO 2023-08-16T14:40:00.461243627+00:00 kernel.cc:1214] Loading model from path /tmp/tmpy5uan1f7/model/ with prefix 9b587fb1e013444d\n",
      "[INFO 2023-08-16T14:40:00.474015492+00:00 kernel.cc:1046] Use fast generic engine\n"
     ]
    },
    {
     "name": "stdout",
     "output_type": "stream",
     "text": [
      "i:69\n"
     ]
    },
    {
     "name": "stderr",
     "output_type": "stream",
     "text": [
      "[INFO 2023-08-16T14:40:02.075789785+00:00 kernel.cc:1214] Loading model from path /tmp/tmpidfc6xq6/model/ with prefix 6526ceceec65430a\n",
      "[INFO 2023-08-16T14:40:02.083024569+00:00 kernel.cc:1046] Use fast generic engine\n"
     ]
    },
    {
     "name": "stdout",
     "output_type": "stream",
     "text": [
      "i:70\n"
     ]
    },
    {
     "name": "stderr",
     "output_type": "stream",
     "text": [
      "[INFO 2023-08-16T14:40:03.289407949+00:00 kernel.cc:1214] Loading model from path /tmp/tmpuad9jx3e/model/ with prefix bd167f2994ce468c\n",
      "[INFO 2023-08-16T14:40:03.299158499+00:00 kernel.cc:1046] Use fast generic engine\n"
     ]
    },
    {
     "name": "stdout",
     "output_type": "stream",
     "text": [
      "i:71\n"
     ]
    },
    {
     "name": "stderr",
     "output_type": "stream",
     "text": [
      "[INFO 2023-08-16T14:40:04.452439099+00:00 kernel.cc:1214] Loading model from path /tmp/tmp_cuh28ud/model/ with prefix a9265f77952547fc\n",
      "[INFO 2023-08-16T14:40:04.460633768+00:00 kernel.cc:1046] Use fast generic engine\n"
     ]
    },
    {
     "name": "stdout",
     "output_type": "stream",
     "text": [
      "i:72\n"
     ]
    },
    {
     "name": "stderr",
     "output_type": "stream",
     "text": [
      "[INFO 2023-08-16T14:40:06.535163162+00:00 kernel.cc:1214] Loading model from path /tmp/tmpzuw4g3j4/model/ with prefix 86219456af744b76\n",
      "[INFO 2023-08-16T14:40:06.551949553+00:00 abstract_model.cc:1311] Engine \"GradientBoostedTreesQuickScorerExtended\" built\n",
      "[INFO 2023-08-16T14:40:06.551998985+00:00 kernel.cc:1046] Use fast generic engine\n"
     ]
    },
    {
     "name": "stdout",
     "output_type": "stream",
     "text": [
      "i:73\n"
     ]
    },
    {
     "name": "stderr",
     "output_type": "stream",
     "text": [
      "[INFO 2023-08-16T14:40:07.695168743+00:00 kernel.cc:1214] Loading model from path /tmp/tmpbro0z8ie/model/ with prefix 812b0d97a8024255\n",
      "[INFO 2023-08-16T14:40:07.703394821+00:00 kernel.cc:1046] Use fast generic engine\n"
     ]
    },
    {
     "name": "stdout",
     "output_type": "stream",
     "text": [
      "i:74\n"
     ]
    },
    {
     "name": "stderr",
     "output_type": "stream",
     "text": [
      "[INFO 2023-08-16T14:40:08.960348509+00:00 kernel.cc:1214] Loading model from path /tmp/tmpoxcyn_i_/model/ with prefix 486c60c07e6d4663\n",
      "[INFO 2023-08-16T14:40:08.973000062+00:00 kernel.cc:1046] Use fast generic engine\n"
     ]
    },
    {
     "name": "stdout",
     "output_type": "stream",
     "text": [
      "i:75\n"
     ]
    },
    {
     "name": "stderr",
     "output_type": "stream",
     "text": [
      "[INFO 2023-08-16T14:40:10.614821587+00:00 kernel.cc:1214] Loading model from path /tmp/tmp1g9xn6q9/model/ with prefix d2adb7679529484e\n",
      "[INFO 2023-08-16T14:40:10.623452921+00:00 kernel.cc:1046] Use fast generic engine\n"
     ]
    },
    {
     "name": "stdout",
     "output_type": "stream",
     "text": [
      "i:76\n"
     ]
    },
    {
     "name": "stderr",
     "output_type": "stream",
     "text": [
      "[INFO 2023-08-16T14:40:12.269485976+00:00 kernel.cc:1214] Loading model from path /tmp/tmpg4lrkaq9/model/ with prefix c2be82afd92c4b2e\n",
      "[INFO 2023-08-16T14:40:12.273962539+00:00 kernel.cc:1046] Use fast generic engine\n"
     ]
    },
    {
     "name": "stdout",
     "output_type": "stream",
     "text": [
      "i:77\n"
     ]
    },
    {
     "name": "stderr",
     "output_type": "stream",
     "text": [
      "[INFO 2023-08-16T14:40:13.389959286+00:00 kernel.cc:1214] Loading model from path /tmp/tmp3p2gcz3m/model/ with prefix 09675642951748e4\n",
      "[INFO 2023-08-16T14:40:13.395250607+00:00 kernel.cc:1046] Use fast generic engine\n"
     ]
    },
    {
     "name": "stdout",
     "output_type": "stream",
     "text": [
      "i:78\n"
     ]
    },
    {
     "name": "stderr",
     "output_type": "stream",
     "text": [
      "[INFO 2023-08-16T14:40:14.502108134+00:00 kernel.cc:1214] Loading model from path /tmp/tmp9n6cvv0i/model/ with prefix f9a80647f3454717\n",
      "[INFO 2023-08-16T14:40:14.509244244+00:00 kernel.cc:1046] Use fast generic engine\n"
     ]
    },
    {
     "name": "stdout",
     "output_type": "stream",
     "text": [
      "i:79\n"
     ]
    },
    {
     "name": "stderr",
     "output_type": "stream",
     "text": [
      "[INFO 2023-08-16T14:40:15.641000144+00:00 kernel.cc:1214] Loading model from path /tmp/tmpg6ub9m37/model/ with prefix 47e87487ceff4d6d\n",
      "[INFO 2023-08-16T14:40:15.648824576+00:00 kernel.cc:1046] Use fast generic engine\n"
     ]
    },
    {
     "name": "stdout",
     "output_type": "stream",
     "text": [
      "i:80\n"
     ]
    },
    {
     "name": "stderr",
     "output_type": "stream",
     "text": [
      "[INFO 2023-08-16T14:40:17.468389006+00:00 kernel.cc:1214] Loading model from path /tmp/tmpubnfnzlm/model/ with prefix 3309f70fc9b24e5f\n",
      "[INFO 2023-08-16T14:40:17.478952489+00:00 abstract_model.cc:1311] Engine \"GradientBoostedTreesQuickScorerExtended\" built\n",
      "[INFO 2023-08-16T14:40:17.478997098+00:00 kernel.cc:1046] Use fast generic engine\n"
     ]
    },
    {
     "name": "stdout",
     "output_type": "stream",
     "text": [
      "i:81\n"
     ]
    },
    {
     "name": "stderr",
     "output_type": "stream",
     "text": [
      "[INFO 2023-08-16T14:40:18.723626167+00:00 kernel.cc:1214] Loading model from path /tmp/tmppd_4morj/model/ with prefix 119bef82f0ec40a1\n",
      "[INFO 2023-08-16T14:40:18.735421927+00:00 kernel.cc:1046] Use fast generic engine\n"
     ]
    },
    {
     "name": "stdout",
     "output_type": "stream",
     "text": [
      "i:82\n"
     ]
    },
    {
     "name": "stderr",
     "output_type": "stream",
     "text": [
      "[INFO 2023-08-16T14:40:19.928335391+00:00 kernel.cc:1214] Loading model from path /tmp/tmpgodzoyww/model/ with prefix e746d8a60aaa4e75\n",
      "[INFO 2023-08-16T14:40:19.93878996+00:00 kernel.cc:1046] Use fast generic engine\n"
     ]
    },
    {
     "name": "stdout",
     "output_type": "stream",
     "text": [
      "i:83\n"
     ]
    },
    {
     "name": "stderr",
     "output_type": "stream",
     "text": [
      "[INFO 2023-08-16T14:40:21.133353154+00:00 kernel.cc:1214] Loading model from path /tmp/tmpjelg5ezt/model/ with prefix ffa7110a51e8430a\n",
      "[INFO 2023-08-16T14:40:21.142477104+00:00 kernel.cc:1046] Use fast generic engine\n"
     ]
    },
    {
     "name": "stdout",
     "output_type": "stream",
     "text": [
      "i:84\n"
     ]
    },
    {
     "name": "stderr",
     "output_type": "stream",
     "text": [
      "[INFO 2023-08-16T14:40:23.324042934+00:00 kernel.cc:1214] Loading model from path /tmp/tmpjst7mtos/model/ with prefix c6a3a264662e4ae0\n",
      "[INFO 2023-08-16T14:40:23.343875776+00:00 kernel.cc:1046] Use fast generic engine\n"
     ]
    },
    {
     "name": "stdout",
     "output_type": "stream",
     "text": [
      "i:85\n"
     ]
    },
    {
     "name": "stderr",
     "output_type": "stream",
     "text": [
      "[INFO 2023-08-16T14:40:24.53409332+00:00 kernel.cc:1214] Loading model from path /tmp/tmprqx3clsi/model/ with prefix bb3dadd4e3544adc\n",
      "[INFO 2023-08-16T14:40:24.541587027+00:00 kernel.cc:1046] Use fast generic engine\n"
     ]
    },
    {
     "name": "stdout",
     "output_type": "stream",
     "text": [
      "i:86\n"
     ]
    },
    {
     "name": "stderr",
     "output_type": "stream",
     "text": [
      "[INFO 2023-08-16T14:40:26.567826871+00:00 kernel.cc:1214] Loading model from path /tmp/tmpgm70oncv/model/ with prefix 8221bb9ec95b4e5e\n",
      "[INFO 2023-08-16T14:40:26.585918138+00:00 kernel.cc:1046] Use fast generic engine\n"
     ]
    },
    {
     "name": "stdout",
     "output_type": "stream",
     "text": [
      "i:87\n"
     ]
    },
    {
     "name": "stderr",
     "output_type": "stream",
     "text": [
      "[INFO 2023-08-16T14:40:28.427696365+00:00 kernel.cc:1214] Loading model from path /tmp/tmpwq2wn53z/model/ with prefix 401632924b19471e\n",
      "[INFO 2023-08-16T14:40:28.447429272+00:00 abstract_model.cc:1311] Engine \"GradientBoostedTreesQuickScorerExtended\" built\n",
      "[INFO 2023-08-16T14:40:28.447492881+00:00 kernel.cc:1046] Use fast generic engine\n"
     ]
    },
    {
     "name": "stdout",
     "output_type": "stream",
     "text": [
      "i:88\n"
     ]
    },
    {
     "name": "stderr",
     "output_type": "stream",
     "text": [
      "[INFO 2023-08-16T14:40:29.742190535+00:00 kernel.cc:1214] Loading model from path /tmp/tmpipwpmcv6/model/ with prefix 2d655e5f7178400b\n",
      "[INFO 2023-08-16T14:40:29.755187853+00:00 kernel.cc:1046] Use fast generic engine\n"
     ]
    },
    {
     "name": "stdout",
     "output_type": "stream",
     "text": [
      "i:89\n"
     ]
    },
    {
     "name": "stderr",
     "output_type": "stream",
     "text": [
      "[INFO 2023-08-16T14:40:30.855721847+00:00 kernel.cc:1214] Loading model from path /tmp/tmpur_pf7ds/model/ with prefix 89acfb641bb24cf4\n",
      "[INFO 2023-08-16T14:40:30.860964598+00:00 kernel.cc:1046] Use fast generic engine\n"
     ]
    },
    {
     "name": "stdout",
     "output_type": "stream",
     "text": [
      "i:90\n"
     ]
    },
    {
     "name": "stderr",
     "output_type": "stream",
     "text": [
      "[INFO 2023-08-16T14:40:32.119038287+00:00 kernel.cc:1214] Loading model from path /tmp/tmpkratgsd3/model/ with prefix cfe85a75276d4d6b\n",
      "[INFO 2023-08-16T14:40:32.130365+00:00 kernel.cc:1046] Use fast generic engine\n"
     ]
    },
    {
     "name": "stdout",
     "output_type": "stream",
     "text": [
      "i:91\n"
     ]
    },
    {
     "name": "stderr",
     "output_type": "stream",
     "text": [
      "[INFO 2023-08-16T14:40:33.308379194+00:00 kernel.cc:1214] Loading model from path /tmp/tmpml4pjc_4/model/ with prefix 0e780d15a57d44f3\n",
      "[INFO 2023-08-16T14:40:33.315573371+00:00 kernel.cc:1046] Use fast generic engine\n"
     ]
    },
    {
     "name": "stdout",
     "output_type": "stream",
     "text": [
      "i:92\n"
     ]
    },
    {
     "name": "stderr",
     "output_type": "stream",
     "text": [
      "[INFO 2023-08-16T14:40:35.355089138+00:00 kernel.cc:1214] Loading model from path /tmp/tmp6e8pg1mc/model/ with prefix 15d7b6c1ee934a04\n",
      "[INFO 2023-08-16T14:40:35.37382418+00:00 kernel.cc:1046] Use fast generic engine\n"
     ]
    },
    {
     "name": "stdout",
     "output_type": "stream",
     "text": [
      "i:93\n"
     ]
    },
    {
     "name": "stderr",
     "output_type": "stream",
     "text": [
      "[INFO 2023-08-16T14:40:36.590356594+00:00 kernel.cc:1214] Loading model from path /tmp/tmpy0qzpjan/model/ with prefix eeadae20d4e34fed\n",
      "[INFO 2023-08-16T14:40:36.600997522+00:00 kernel.cc:1046] Use fast generic engine\n"
     ]
    },
    {
     "name": "stdout",
     "output_type": "stream",
     "text": [
      "i:94\n"
     ]
    },
    {
     "name": "stderr",
     "output_type": "stream",
     "text": [
      "[INFO 2023-08-16T14:40:38.278058931+00:00 kernel.cc:1214] Loading model from path /tmp/tmp6hoxdybn/model/ with prefix b8dcad2e1caf49e3\n",
      "[INFO 2023-08-16T14:40:38.285015789+00:00 kernel.cc:1046] Use fast generic engine\n"
     ]
    },
    {
     "name": "stdout",
     "output_type": "stream",
     "text": [
      "i:95\n"
     ]
    },
    {
     "name": "stderr",
     "output_type": "stream",
     "text": [
      "[INFO 2023-08-16T14:40:39.481473583+00:00 kernel.cc:1214] Loading model from path /tmp/tmpw_b4gte5/model/ with prefix c4860a9c74a54502\n",
      "[INFO 2023-08-16T14:40:39.49042827+00:00 abstract_model.cc:1311] Engine \"GradientBoostedTreesQuickScorerExtended\" built\n",
      "[INFO 2023-08-16T14:40:39.490472436+00:00 kernel.cc:1046] Use fast generic engine\n"
     ]
    },
    {
     "name": "stdout",
     "output_type": "stream",
     "text": [
      "i:96\n"
     ]
    },
    {
     "name": "stderr",
     "output_type": "stream",
     "text": [
      "[INFO 2023-08-16T14:40:40.722723988+00:00 kernel.cc:1214] Loading model from path /tmp/tmp_8gh8ngb/model/ with prefix dc084c4daf9a437b\n",
      "[INFO 2023-08-16T14:40:40.733341176+00:00 kernel.cc:1046] Use fast generic engine\n"
     ]
    },
    {
     "name": "stdout",
     "output_type": "stream",
     "text": [
      "i:97\n"
     ]
    },
    {
     "name": "stderr",
     "output_type": "stream",
     "text": [
      "[INFO 2023-08-16T14:40:42.365190877+00:00 kernel.cc:1214] Loading model from path /tmp/tmpl1aewncg/model/ with prefix 4f5aa125c145476c\n",
      "[INFO 2023-08-16T14:40:42.370936161+00:00 kernel.cc:1046] Use fast generic engine\n"
     ]
    },
    {
     "name": "stdout",
     "output_type": "stream",
     "text": [
      "i:98\n"
     ]
    },
    {
     "name": "stderr",
     "output_type": "stream",
     "text": [
      "[INFO 2023-08-16T14:40:43.602026014+00:00 kernel.cc:1214] Loading model from path /tmp/tmplzohdwqq/model/ with prefix f220fc14ec804d79\n",
      "[INFO 2023-08-16T14:40:43.610097068+00:00 kernel.cc:1046] Use fast generic engine\n"
     ]
    },
    {
     "name": "stdout",
     "output_type": "stream",
     "text": [
      "i:99\n"
     ]
    },
    {
     "name": "stderr",
     "output_type": "stream",
     "text": [
      "[INFO 2023-08-16T14:40:44.955836254+00:00 kernel.cc:1214] Loading model from path /tmp/tmpd65vtn6e/model/ with prefix 632527426d794d5a\n",
      "[INFO 2023-08-16T14:40:44.971865489+00:00 kernel.cc:1046] Use fast generic engine\n"
     ]
    },
    {
     "name": "stdout",
     "output_type": "stream",
     "text": [
      "Submission exported to /kaggle/working/submission.csv\n"
     ]
    }
   ],
   "source": [
    "predictions = None\n",
    "num_predictions = 0\n",
    "\n",
    "for i in range(100):\n",
    "    print(f\"i:{i}\")\n",
    "    # Possible models: GradientBoostedTreesModel or RandomForestModel\n",
    "    model = tfdf.keras.GradientBoostedTreesModel(\n",
    "        verbose=0, # Very few logs\n",
    "        features=[tfdf.keras.FeatureUsage(name=n) for n in input_features],\n",
    "        exclude_non_specified_features=True, # Only use the features in \"features\"\n",
    "\n",
    "        #min_examples=1,\n",
    "        #categorical_algorithm=\"RANDOM\",\n",
    "        ##max_depth=4,\n",
    "        #shrinkage=0.05,\n",
    "        ##num_candidate_attributes_ratio=0.2,\n",
    "        #split_axis=\"SPARSE_OBLIQUE\",\n",
    "        #sparse_oblique_normalization=\"MIN_MAX\",\n",
    "        #sparse_oblique_num_projections_exponent=2.0,\n",
    "        #num_trees=2000,\n",
    "        ##validation_ratio=0.0,\n",
    "        random_seed=i,\n",
    "        honest=True,\n",
    "    )\n",
    "    model.fit(train_ds)\n",
    "    \n",
    "    sub_predictions = model.predict(serving_ds, verbose=0)[:,0]\n",
    "    if predictions is None:\n",
    "        predictions = sub_predictions\n",
    "    else:\n",
    "        predictions += sub_predictions\n",
    "    num_predictions += 1\n",
    "\n",
    "predictions/=num_predictions\n",
    "\n",
    "kaggle_predictions = pd.DataFrame({\n",
    "        \"PassengerId\": serving_df[\"PassengerId\"],\n",
    "        \"Survived\": (predictions >= 0.5).astype(int)\n",
    "    })\n",
    "\n",
    "make_submission(kaggle_predictions)"
   ]
  },
  {
   "cell_type": "markdown",
   "id": "cd96d0b0",
   "metadata": {
    "papermill": {
     "duration": 0.028845,
     "end_time": "2023-08-16T14:40:45.513634",
     "exception": false,
     "start_time": "2023-08-16T14:40:45.484789",
     "status": "completed"
    },
    "tags": []
   },
   "source": [
    "# What is next\n",
    "\n",
    "If you want to learn more about TensorFlow Decision Forests and its advanced features, you can follow the official documentation [here](https://www.tensorflow.org/decision_forests) "
   ]
  }
 ],
 "metadata": {
  "kernelspec": {
   "display_name": "Python 3",
   "language": "python",
   "name": "python3"
  },
  "language_info": {
   "codemirror_mode": {
    "name": "ipython",
    "version": 3
   },
   "file_extension": ".py",
   "mimetype": "text/x-python",
   "name": "python",
   "nbconvert_exporter": "python",
   "pygments_lexer": "ipython3",
   "version": "3.7.12"
  },
  "papermill": {
   "default_parameters": {},
   "duration": 320.771315,
   "end_time": "2023-08-16T14:40:48.537578",
   "environment_variables": {},
   "exception": null,
   "input_path": "__notebook__.ipynb",
   "output_path": "__notebook__.ipynb",
   "parameters": {},
   "start_time": "2023-08-16T14:35:27.766263",
   "version": "2.4.0"
  }
 },
 "nbformat": 4,
 "nbformat_minor": 5
}
